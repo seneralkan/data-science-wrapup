{
 "cells": [
  {
   "cell_type": "markdown",
   "source": [
    "# Natural Language Processing\n",
    "\n",
    "Natural language processing (NLP) is a subfield of linguistics, computer science, and artificial intelligence concerned with the interactions between computers and human language, in particular how to program computers to process and analyze large amounts of natural language data. The goal is a computer capable of \"understanding\" the contents of documents, including the contextual nuances of the language within them. The technology can then accurately extract information and insights contained in the documents as well as categorize and organize the documents themselves.\n",
    "\n",
    "Challenges in natural language processing frequently involve speech recognition, natural language understanding, and natural language generation.\n",
    "\n",
    "![NLP](./nlp.png)\n",
    "\n",
    "**Source:**\n",
    "\n",
    "[Wikipedia](https://en.wikipedia.org/wiki/Natural_language_processing)\n",
    "\n"
   ],
   "metadata": {}
  },
  {
   "cell_type": "markdown",
   "source": [
    "## Basic String Processes"
   ],
   "metadata": {}
  },
  {
   "cell_type": "code",
   "execution_count": 2,
   "source": [
    "name = \"sener\"\n",
    "3*name"
   ],
   "outputs": [
    {
     "output_type": "execute_result",
     "data": {
      "text/plain": [
       "'senersenersener'"
      ]
     },
     "metadata": {},
     "execution_count": 2
    }
   ],
   "metadata": {}
  },
  {
   "cell_type": "code",
   "execution_count": 3,
   "source": [
    "\"sener\" + \"alkan\""
   ],
   "outputs": [
    {
     "output_type": "execute_result",
     "data": {
      "text/plain": [
       "'seneralkan'"
      ]
     },
     "metadata": {},
     "execution_count": 3
    }
   ],
   "metadata": {}
  },
  {
   "cell_type": "code",
   "execution_count": 5,
   "source": [
    "\"A\" + name[1:]"
   ],
   "outputs": [
    {
     "output_type": "execute_result",
     "data": {
      "text/plain": [
       "'Aener'"
      ]
     },
     "metadata": {},
     "execution_count": 5
    }
   ],
   "metadata": {}
  },
  {
   "cell_type": "code",
   "execution_count": 6,
   "source": [
    "name = [\"sener\", \"mark\", \"step\"]\n",
    "for i in name:\n",
    "    print(\"name:\", i, sep=\"\")"
   ],
   "outputs": [
    {
     "output_type": "stream",
     "name": "stdout",
     "text": [
      "name:sener\n",
      "name:mark\n",
      "name:step\n"
     ]
    }
   ],
   "metadata": {}
  },
  {
   "cell_type": "code",
   "execution_count": 8,
   "source": [
    "for i in name:\n",
    "    print(\"_\", i[0:], sep=\"\")"
   ],
   "outputs": [
    {
     "output_type": "stream",
     "name": "stdout",
     "text": [
      "_sener\n",
      "_mark\n",
      "_step\n"
     ]
    }
   ],
   "metadata": {}
  },
  {
   "cell_type": "code",
   "execution_count": 10,
   "source": [
    "# Giving number for the names\n",
    "print(*enumerate(name))"
   ],
   "outputs": [
    {
     "output_type": "stream",
     "name": "stdout",
     "text": [
      "(0, 'sener') (1, 'mark') (2, 'step')\n"
     ]
    }
   ],
   "metadata": {}
  },
  {
   "cell_type": "code",
   "execution_count": 11,
   "source": [
    "for i in enumerate(name):\n",
    "    print(i)"
   ],
   "outputs": [
    {
     "output_type": "stream",
     "name": "stdout",
     "text": [
      "(0, 'sener')\n",
      "(1, 'mark')\n",
      "(2, 'step')\n"
     ]
    }
   ],
   "metadata": {}
  },
  {
   "cell_type": "code",
   "execution_count": 12,
   "source": [
    "for i in enumerate(\"name\"):\n",
    "    print(i)"
   ],
   "outputs": [
    {
     "output_type": "stream",
     "name": "stdout",
     "text": [
      "(0, 'n')\n",
      "(1, 'a')\n",
      "(2, 'm')\n",
      "(3, 'e')\n"
     ]
    }
   ],
   "metadata": {}
  },
  {
   "cell_type": "code",
   "execution_count": 13,
   "source": [
    "for i in enumerate(name, 4):\n",
    "    print(i)"
   ],
   "outputs": [
    {
     "output_type": "stream",
     "name": "stdout",
     "text": [
      "(4, 'sener')\n",
      "(5, 'mark')\n",
      "(6, 'step')\n"
     ]
    }
   ],
   "metadata": {}
  },
  {
   "cell_type": "code",
   "execution_count": 16,
   "source": [
    "# List Querry\n",
    "# Is it alphabetic or not ?\n",
    "\"name\".isalpha()"
   ],
   "outputs": [
    {
     "output_type": "execute_result",
     "data": {
      "text/plain": [
       "True"
      ]
     },
     "metadata": {},
     "execution_count": 16
    }
   ],
   "metadata": {}
  },
  {
   "cell_type": "code",
   "execution_count": 17,
   "source": [
    "\"name30\".isalpha()"
   ],
   "outputs": [
    {
     "output_type": "execute_result",
     "data": {
      "text/plain": [
       "False"
      ]
     },
     "metadata": {},
     "execution_count": 17
    }
   ],
   "metadata": {}
  },
  {
   "cell_type": "code",
   "execution_count": 18,
   "source": [
    "\"123\".isdigit()"
   ],
   "outputs": [
    {
     "output_type": "execute_result",
     "data": {
      "text/plain": [
       "True"
      ]
     },
     "metadata": {},
     "execution_count": 18
    }
   ],
   "metadata": {}
  },
  {
   "cell_type": "code",
   "execution_count": 19,
   "source": [
    "# Numeric and alphabetic\n",
    "\"sener13\".isalnum()"
   ],
   "outputs": [
    {
     "output_type": "execute_result",
     "data": {
      "text/plain": [
       "True"
      ]
     },
     "metadata": {},
     "execution_count": 19
    }
   ],
   "metadata": {}
  },
  {
   "cell_type": "code",
   "execution_count": 21,
   "source": [
    "# \n",
    "name[0:2]"
   ],
   "outputs": [
    {
     "output_type": "execute_result",
     "data": {
      "text/plain": [
       "['sener', 'mark']"
      ]
     },
     "metadata": {},
     "execution_count": 21
    }
   ],
   "metadata": {}
  },
  {
   "cell_type": "code",
   "execution_count": 25,
   "source": [
    "name.index(\"step\")"
   ],
   "outputs": [
    {
     "output_type": "execute_result",
     "data": {
      "text/plain": [
       "2"
      ]
     },
     "metadata": {},
     "execution_count": 25
    }
   ],
   "metadata": {}
  },
  {
   "cell_type": "code",
   "execution_count": 27,
   "source": [
    "# startswith() & endswith()\n",
    "\n",
    "name = \"Sener Alkan\"\n",
    "\n",
    "name.startswith(\"s\")\n",
    "name.startswith(\"S\")\n",
    "name.startswith(\"n\")"
   ],
   "outputs": [
    {
     "output_type": "execute_result",
     "data": {
      "text/plain": [
       "False"
      ]
     },
     "metadata": {},
     "execution_count": 27
    }
   ],
   "metadata": {}
  },
  {
   "cell_type": "code",
   "execution_count": 28,
   "source": [
    "# count()\n",
    "name.count(\"e\")"
   ],
   "outputs": [
    {
     "output_type": "execute_result",
     "data": {
      "text/plain": [
       "2"
      ]
     },
     "metadata": {},
     "execution_count": 28
    }
   ],
   "metadata": {}
  },
  {
   "cell_type": "code",
   "execution_count": 29,
   "source": [
    "#sorted\n",
    "sorted(\"sener\")"
   ],
   "outputs": [
    {
     "output_type": "execute_result",
     "data": {
      "text/plain": [
       "['e', 'e', 'n', 'r', 's']"
      ]
     },
     "metadata": {},
     "execution_count": 29
    }
   ],
   "metadata": {}
  },
  {
   "cell_type": "code",
   "execution_count": 31,
   "source": [
    "print(*sorted(\"translate\"), sep=\"\")"
   ],
   "outputs": [
    {
     "output_type": "stream",
     "name": "stdout",
     "text": [
      "aaelnrstt\n"
     ]
    }
   ],
   "metadata": {}
  },
  {
   "cell_type": "code",
   "execution_count": 32,
   "source": [
    "# Split\n",
    "name.split()"
   ],
   "outputs": [
    {
     "output_type": "execute_result",
     "data": {
      "text/plain": [
       "['Sener', 'Alkan']"
      ]
     },
     "metadata": {},
     "execution_count": 32
    }
   ],
   "metadata": {}
  },
  {
   "cell_type": "code",
   "execution_count": 33,
   "source": [
    "name.split(',')"
   ],
   "outputs": [
    {
     "output_type": "execute_result",
     "data": {
      "text/plain": [
       "['Sener Alkan']"
      ]
     },
     "metadata": {},
     "execution_count": 33
    }
   ],
   "metadata": {}
  },
  {
   "cell_type": "code",
   "execution_count": 34,
   "source": [
    "name.split(\"_\")"
   ],
   "outputs": [
    {
     "output_type": "execute_result",
     "data": {
      "text/plain": [
       "['Sener Alkan']"
      ]
     },
     "metadata": {},
     "execution_count": 34
    }
   ],
   "metadata": {}
  },
  {
   "cell_type": "code",
   "execution_count": 36,
   "source": [
    "# Lowercase and uppercase\n",
    "name.upper()"
   ],
   "outputs": [
    {
     "output_type": "execute_result",
     "data": {
      "text/plain": [
       "'SENER ALKAN'"
      ]
     },
     "metadata": {},
     "execution_count": 36
    }
   ],
   "metadata": {}
  },
  {
   "cell_type": "code",
   "execution_count": 37,
   "source": [
    "name.lower()"
   ],
   "outputs": [
    {
     "output_type": "execute_result",
     "data": {
      "text/plain": [
       "'sener alkan'"
      ]
     },
     "metadata": {},
     "execution_count": 37
    }
   ],
   "metadata": {}
  },
  {
   "cell_type": "code",
   "execution_count": 39,
   "source": [
    "name.upper().lower()"
   ],
   "outputs": [
    {
     "output_type": "execute_result",
     "data": {
      "text/plain": [
       "'sener alkan'"
      ]
     },
     "metadata": {},
     "execution_count": 39
    }
   ],
   "metadata": {}
  },
  {
   "cell_type": "code",
   "execution_count": 40,
   "source": [
    "name_a = name.upper()\n",
    "name_a.islower()"
   ],
   "outputs": [
    {
     "output_type": "execute_result",
     "data": {
      "text/plain": [
       "False"
      ]
     },
     "metadata": {},
     "execution_count": 40
    }
   ],
   "metadata": {}
  },
  {
   "cell_type": "code",
   "execution_count": 42,
   "source": [
    "name_a.isupper()"
   ],
   "outputs": [
    {
     "output_type": "execute_result",
     "data": {
      "text/plain": [
       "True"
      ]
     },
     "metadata": {},
     "execution_count": 42
    }
   ],
   "metadata": {}
  },
  {
   "cell_type": "code",
   "execution_count": 43,
   "source": [
    "# capitalize & title & swapcase\n",
    "name = \"sener alkan\"\n",
    "name.capitalize()"
   ],
   "outputs": [
    {
     "output_type": "execute_result",
     "data": {
      "text/plain": [
       "'Sener alkan'"
      ]
     },
     "metadata": {},
     "execution_count": 43
    }
   ],
   "metadata": {}
  },
  {
   "cell_type": "code",
   "execution_count": 44,
   "source": [
    "name.title()"
   ],
   "outputs": [
    {
     "output_type": "execute_result",
     "data": {
      "text/plain": [
       "'Sener Alkan'"
      ]
     },
     "metadata": {},
     "execution_count": 44
    }
   ],
   "metadata": {}
  },
  {
   "cell_type": "code",
   "execution_count": 46,
   "source": [
    "name = \"AHMET sener ALKAN\"\n",
    "name.swapcase()"
   ],
   "outputs": [
    {
     "output_type": "execute_result",
     "data": {
      "text/plain": [
       "'ahmet SENER alkan'"
      ]
     },
     "metadata": {},
     "execution_count": 46
    }
   ],
   "metadata": {}
  },
  {
   "cell_type": "code",
   "execution_count": 47,
   "source": [
    "# Trim the unwanted character: strip(), lstrip(), rstrip()\n",
    "name = \"hello\"\n",
    "name.strip()"
   ],
   "outputs": [
    {
     "output_type": "execute_result",
     "data": {
      "text/plain": [
       "'hello'"
      ]
     },
     "metadata": {},
     "execution_count": 47
    }
   ],
   "metadata": {}
  },
  {
   "cell_type": "code",
   "execution_count": 48,
   "source": [
    "name = \"*hello*\"\n",
    "name.strip(\"*\")"
   ],
   "outputs": [
    {
     "output_type": "execute_result",
     "data": {
      "text/plain": [
       "'hello'"
      ]
     },
     "metadata": {},
     "execution_count": 48
    }
   ],
   "metadata": {}
  },
  {
   "cell_type": "code",
   "execution_count": 49,
   "source": [
    "name = \"LhelloL\"\n",
    "name.strip(\"L\")"
   ],
   "outputs": [
    {
     "output_type": "execute_result",
     "data": {
      "text/plain": [
       "'hello'"
      ]
     },
     "metadata": {},
     "execution_count": 49
    }
   ],
   "metadata": {}
  },
  {
   "cell_type": "code",
   "execution_count": 52,
   "source": [
    "name.rstrip(\"L\")"
   ],
   "outputs": [
    {
     "output_type": "execute_result",
     "data": {
      "text/plain": [
       "'Lhello'"
      ]
     },
     "metadata": {},
     "execution_count": 52
    }
   ],
   "metadata": {}
  },
  {
   "cell_type": "code",
   "execution_count": 53,
   "source": [
    "name.lstrip(\"L\")"
   ],
   "outputs": [
    {
     "output_type": "execute_result",
     "data": {
      "text/plain": [
       "'helloL'"
      ]
     },
     "metadata": {},
     "execution_count": 53
    }
   ],
   "metadata": {}
  },
  {
   "cell_type": "code",
   "execution_count": 55,
   "source": [
    "# Join method\n",
    "name = \"sener alkan\"\n",
    "trim_data = name.split()"
   ],
   "outputs": [],
   "metadata": {}
  },
  {
   "cell_type": "code",
   "execution_count": 56,
   "source": [
    "trim_data"
   ],
   "outputs": [
    {
     "output_type": "execute_result",
     "data": {
      "text/plain": [
       "['sener', 'alkan']"
      ]
     },
     "metadata": {},
     "execution_count": 56
    }
   ],
   "metadata": {}
  },
  {
   "cell_type": "code",
   "execution_count": 57,
   "source": [
    "joiner = \" \"\n",
    "joiner.join(trim_data)"
   ],
   "outputs": [
    {
     "output_type": "execute_result",
     "data": {
      "text/plain": [
       "'sener alkan'"
      ]
     },
     "metadata": {},
     "execution_count": 57
    }
   ],
   "metadata": {}
  },
  {
   "cell_type": "code",
   "execution_count": 58,
   "source": [
    "joiner = \"**\"\n",
    "joiner.join(trim_data)"
   ],
   "outputs": [
    {
     "output_type": "execute_result",
     "data": {
      "text/plain": [
       "'sener**alkan'"
      ]
     },
     "metadata": {},
     "execution_count": 58
    }
   ],
   "metadata": {}
  },
  {
   "cell_type": "code",
   "execution_count": 60,
   "source": [
    "# Replace the element: replace(), str.maketrans(), translate()\n",
    "\n",
    "name.replace(\"s\", \"e\")"
   ],
   "outputs": [
    {
     "output_type": "execute_result",
     "data": {
      "text/plain": [
       "'eener alkan'"
      ]
     },
     "metadata": {},
     "execution_count": 60
    }
   ],
   "metadata": {}
  },
  {
   "cell_type": "code",
   "execution_count": 62,
   "source": [
    "name.replace(\"se\", \"Al\")"
   ],
   "outputs": [
    {
     "output_type": "execute_result",
     "data": {
      "text/plain": [
       "'Alner alkan'"
      ]
     },
     "metadata": {},
     "execution_count": 62
    }
   ],
   "metadata": {}
  },
  {
   "cell_type": "code",
   "execution_count": 63,
   "source": [
    "tweet = \"Bu İfade İçerisinde bağzı Türkçe karakterler vardır\"\n",
    "tr_letter = \"çÇğĞıİöÖşŞüÜ\"\n",
    "en_letter = \"cCgGiIoOsSuU\"\n",
    "\n",
    "alphabet = str.maketrans(tr_letter, en_letter)\n",
    "\n",
    "tweet.translate(alphabet)"
   ],
   "outputs": [
    {
     "output_type": "execute_result",
     "data": {
      "text/plain": [
       "'Bu Ifade Icerisinde bagzi Turkce karakterler vardir'"
      ]
     },
     "metadata": {},
     "execution_count": 63
    }
   ],
   "metadata": {}
  },
  {
   "cell_type": "code",
   "execution_count": 68,
   "source": [
    "# Contains\n",
    "import pandas as pd\n",
    "name = [\"sener\", \"Ahmet\", \"aahmet\", \"ahmet\", \"MAx\", \"stephanie\", \"adam\", \"eve\"]\n",
    "series = pd.Series(name)\n",
    "series"
   ],
   "outputs": [
    {
     "output_type": "execute_result",
     "data": {
      "text/plain": [
       "0        sener\n",
       "1        Ahmet\n",
       "2       aahmet\n",
       "3        ahmet\n",
       "4          MAx\n",
       "5    stephanie\n",
       "6         adam\n",
       "7          eve\n",
       "dtype: object"
      ]
     },
     "metadata": {},
     "execution_count": 68
    }
   ],
   "metadata": {}
  },
  {
   "cell_type": "code",
   "execution_count": 69,
   "source": [
    "series.str.contains(\"ah\")"
   ],
   "outputs": [
    {
     "output_type": "execute_result",
     "data": {
      "text/plain": [
       "0    False\n",
       "1    False\n",
       "2     True\n",
       "3     True\n",
       "4    False\n",
       "5    False\n",
       "6    False\n",
       "7    False\n",
       "dtype: bool"
      ]
     },
     "metadata": {},
     "execution_count": 69
    }
   ],
   "metadata": {}
  },
  {
   "cell_type": "code",
   "execution_count": 70,
   "source": [
    "series.str.contains(\"ah\").sum()"
   ],
   "outputs": [
    {
     "output_type": "execute_result",
     "data": {
      "text/plain": [
       "2"
      ]
     },
     "metadata": {},
     "execution_count": 70
    }
   ],
   "metadata": {}
  },
  {
   "cell_type": "code",
   "execution_count": 71,
   "source": [
    "series.str.contains(\"[aA]hm\").sum()"
   ],
   "outputs": [
    {
     "output_type": "execute_result",
     "data": {
      "text/plain": [
       "3"
      ]
     },
     "metadata": {},
     "execution_count": 71
    }
   ],
   "metadata": {}
  },
  {
   "cell_type": "markdown",
   "source": [
    "### Text Preprocessing"
   ],
   "metadata": {}
  },
  {
   "cell_type": "code",
   "execution_count": 174,
   "source": [
    "# Text Pre-processing\n",
    "\n",
    "text = \"\"\"\n",
    "A Scandal is Bohemial! 01\n",
    "The Red-headed Leaguge,2\n",
    "A Case, of Identity 33\n",
    "The Boscombe Valley Mystery4\n",
    "The Five Orange Pipsi\n",
    "The Man with? the Twistid lip\n",
    "The Adventure of the Blue Carbuncle\n",
    "The Adventure of the Speckled Band\n",
    "The Adventure of the Engineer's Thumb\n",
    "\"\"\"\n",
    "text"
   ],
   "outputs": [
    {
     "output_type": "execute_result",
     "data": {
      "text/plain": [
       "\"\\nA Scandal is Bohemial! 01\\nThe Red-headed Leaguge,2\\nA Case, of Identity 33\\nThe Boscombe Valley Mystery4\\nThe Five Orange Pipsi\\nThe Man with? the Twistid lip\\nThe Adventure of the Blue Carbuncle\\nThe Adventure of the Speckled Band\\nThe Adventure of the Engineer's Thumb\\n\""
      ]
     },
     "metadata": {},
     "execution_count": 174
    }
   ],
   "metadata": {}
  },
  {
   "cell_type": "code",
   "execution_count": 175,
   "source": [
    "# Converting the text to vector\n",
    "text.split(\"\\n\")"
   ],
   "outputs": [
    {
     "output_type": "execute_result",
     "data": {
      "text/plain": [
       "['',\n",
       " 'A Scandal is Bohemial! 01',\n",
       " 'The Red-headed Leaguge,2',\n",
       " 'A Case, of Identity 33',\n",
       " 'The Boscombe Valley Mystery4',\n",
       " 'The Five Orange Pipsi',\n",
       " 'The Man with? the Twistid lip',\n",
       " 'The Adventure of the Blue Carbuncle',\n",
       " 'The Adventure of the Speckled Band',\n",
       " \"The Adventure of the Engineer's Thumb\",\n",
       " '']"
      ]
     },
     "metadata": {},
     "execution_count": 175
    }
   ],
   "metadata": {}
  },
  {
   "cell_type": "code",
   "execution_count": 176,
   "source": [
    "v_text = text.split(\"\\n\")\n",
    "v = pd.Series(v_text)\n",
    "v"
   ],
   "outputs": [
    {
     "output_type": "execute_result",
     "data": {
      "text/plain": [
       "0                                          \n",
       "1                 A Scandal is Bohemial! 01\n",
       "2                  The Red-headed Leaguge,2\n",
       "3                    A Case, of Identity 33\n",
       "4              The Boscombe Valley Mystery4\n",
       "5                     The Five Orange Pipsi\n",
       "6             The Man with? the Twistid lip\n",
       "7       The Adventure of the Blue Carbuncle\n",
       "8        The Adventure of the Speckled Band\n",
       "9     The Adventure of the Engineer's Thumb\n",
       "10                                         \n",
       "dtype: object"
      ]
     },
     "metadata": {},
     "execution_count": 176
    }
   ],
   "metadata": {}
  },
  {
   "cell_type": "code",
   "execution_count": 177,
   "source": [
    "text_vector = v[1:len(v)-1]"
   ],
   "outputs": [],
   "metadata": {}
  },
  {
   "cell_type": "code",
   "execution_count": 178,
   "source": [
    "tv = pd.DataFrame(text_vector, columns=[\"Stories\"])\n",
    "tv"
   ],
   "outputs": [
    {
     "output_type": "execute_result",
     "data": {
      "text/plain": [
       "                                 Stories\n",
       "1              A Scandal is Bohemial! 01\n",
       "2               The Red-headed Leaguge,2\n",
       "3                 A Case, of Identity 33\n",
       "4           The Boscombe Valley Mystery4\n",
       "5                  The Five Orange Pipsi\n",
       "6          The Man with? the Twistid lip\n",
       "7    The Adventure of the Blue Carbuncle\n",
       "8     The Adventure of the Speckled Band\n",
       "9  The Adventure of the Engineer's Thumb"
      ],
      "text/html": [
       "<div>\n",
       "<style scoped>\n",
       "    .dataframe tbody tr th:only-of-type {\n",
       "        vertical-align: middle;\n",
       "    }\n",
       "\n",
       "    .dataframe tbody tr th {\n",
       "        vertical-align: top;\n",
       "    }\n",
       "\n",
       "    .dataframe thead th {\n",
       "        text-align: right;\n",
       "    }\n",
       "</style>\n",
       "<table border=\"1\" class=\"dataframe\">\n",
       "  <thead>\n",
       "    <tr style=\"text-align: right;\">\n",
       "      <th></th>\n",
       "      <th>Stories</th>\n",
       "    </tr>\n",
       "  </thead>\n",
       "  <tbody>\n",
       "    <tr>\n",
       "      <th>1</th>\n",
       "      <td>A Scandal is Bohemial! 01</td>\n",
       "    </tr>\n",
       "    <tr>\n",
       "      <th>2</th>\n",
       "      <td>The Red-headed Leaguge,2</td>\n",
       "    </tr>\n",
       "    <tr>\n",
       "      <th>3</th>\n",
       "      <td>A Case, of Identity 33</td>\n",
       "    </tr>\n",
       "    <tr>\n",
       "      <th>4</th>\n",
       "      <td>The Boscombe Valley Mystery4</td>\n",
       "    </tr>\n",
       "    <tr>\n",
       "      <th>5</th>\n",
       "      <td>The Five Orange Pipsi</td>\n",
       "    </tr>\n",
       "    <tr>\n",
       "      <th>6</th>\n",
       "      <td>The Man with? the Twistid lip</td>\n",
       "    </tr>\n",
       "    <tr>\n",
       "      <th>7</th>\n",
       "      <td>The Adventure of the Blue Carbuncle</td>\n",
       "    </tr>\n",
       "    <tr>\n",
       "      <th>8</th>\n",
       "      <td>The Adventure of the Speckled Band</td>\n",
       "    </tr>\n",
       "    <tr>\n",
       "      <th>9</th>\n",
       "      <td>The Adventure of the Engineer's Thumb</td>\n",
       "    </tr>\n",
       "  </tbody>\n",
       "</table>\n",
       "</div>"
      ]
     },
     "metadata": {},
     "execution_count": 178
    }
   ],
   "metadata": {}
  },
  {
   "cell_type": "code",
   "execution_count": 179,
   "source": [
    "# Lowercase and Uppercase\n",
    "d_tv = tv.copy()\n",
    "d_tv"
   ],
   "outputs": [
    {
     "output_type": "execute_result",
     "data": {
      "text/plain": [
       "                                 Stories\n",
       "1              A Scandal is Bohemial! 01\n",
       "2               The Red-headed Leaguge,2\n",
       "3                 A Case, of Identity 33\n",
       "4           The Boscombe Valley Mystery4\n",
       "5                  The Five Orange Pipsi\n",
       "6          The Man with? the Twistid lip\n",
       "7    The Adventure of the Blue Carbuncle\n",
       "8     The Adventure of the Speckled Band\n",
       "9  The Adventure of the Engineer's Thumb"
      ],
      "text/html": [
       "<div>\n",
       "<style scoped>\n",
       "    .dataframe tbody tr th:only-of-type {\n",
       "        vertical-align: middle;\n",
       "    }\n",
       "\n",
       "    .dataframe tbody tr th {\n",
       "        vertical-align: top;\n",
       "    }\n",
       "\n",
       "    .dataframe thead th {\n",
       "        text-align: right;\n",
       "    }\n",
       "</style>\n",
       "<table border=\"1\" class=\"dataframe\">\n",
       "  <thead>\n",
       "    <tr style=\"text-align: right;\">\n",
       "      <th></th>\n",
       "      <th>Stories</th>\n",
       "    </tr>\n",
       "  </thead>\n",
       "  <tbody>\n",
       "    <tr>\n",
       "      <th>1</th>\n",
       "      <td>A Scandal is Bohemial! 01</td>\n",
       "    </tr>\n",
       "    <tr>\n",
       "      <th>2</th>\n",
       "      <td>The Red-headed Leaguge,2</td>\n",
       "    </tr>\n",
       "    <tr>\n",
       "      <th>3</th>\n",
       "      <td>A Case, of Identity 33</td>\n",
       "    </tr>\n",
       "    <tr>\n",
       "      <th>4</th>\n",
       "      <td>The Boscombe Valley Mystery4</td>\n",
       "    </tr>\n",
       "    <tr>\n",
       "      <th>5</th>\n",
       "      <td>The Five Orange Pipsi</td>\n",
       "    </tr>\n",
       "    <tr>\n",
       "      <th>6</th>\n",
       "      <td>The Man with? the Twistid lip</td>\n",
       "    </tr>\n",
       "    <tr>\n",
       "      <th>7</th>\n",
       "      <td>The Adventure of the Blue Carbuncle</td>\n",
       "    </tr>\n",
       "    <tr>\n",
       "      <th>8</th>\n",
       "      <td>The Adventure of the Speckled Band</td>\n",
       "    </tr>\n",
       "    <tr>\n",
       "      <th>9</th>\n",
       "      <td>The Adventure of the Engineer's Thumb</td>\n",
       "    </tr>\n",
       "  </tbody>\n",
       "</table>\n",
       "</div>"
      ]
     },
     "metadata": {},
     "execution_count": 179
    }
   ],
   "metadata": {}
  },
  {
   "cell_type": "code",
   "execution_count": 180,
   "source": [
    "list1 = [1,2,3]\n",
    "str1 = \"\".join(str(i) for i in list1)\n",
    "str1"
   ],
   "outputs": [
    {
     "output_type": "execute_result",
     "data": {
      "text/plain": [
       "'123'"
      ]
     },
     "metadata": {},
     "execution_count": 180
    }
   ],
   "metadata": {}
  },
  {
   "cell_type": "code",
   "execution_count": 181,
   "source": [
    "d_tv = d_tv[\"Stories\"].apply(lambda x: \" \".join(x.lower() for x in x.split()))\n",
    "d_tv"
   ],
   "outputs": [
    {
     "output_type": "execute_result",
     "data": {
      "text/plain": [
       "1                a scandal is bohemial! 01\n",
       "2                 the red-headed leaguge,2\n",
       "3                   a case, of identity 33\n",
       "4             the boscombe valley mystery4\n",
       "5                    the five orange pipsi\n",
       "6            the man with? the twistid lip\n",
       "7      the adventure of the blue carbuncle\n",
       "8       the adventure of the speckled band\n",
       "9    the adventure of the engineer's thumb\n",
       "Name: Stories, dtype: object"
      ]
     },
     "metadata": {},
     "execution_count": 181
    }
   ],
   "metadata": {}
  },
  {
   "cell_type": "code",
   "execution_count": 182,
   "source": [
    "# Remove Punctuation\n",
    "d_tv = pd.DataFrame(d_tv, columns=[\"Stories\"])\n",
    "d_tv"
   ],
   "outputs": [
    {
     "output_type": "execute_result",
     "data": {
      "text/plain": [
       "                                 Stories\n",
       "1              a scandal is bohemial! 01\n",
       "2               the red-headed leaguge,2\n",
       "3                 a case, of identity 33\n",
       "4           the boscombe valley mystery4\n",
       "5                  the five orange pipsi\n",
       "6          the man with? the twistid lip\n",
       "7    the adventure of the blue carbuncle\n",
       "8     the adventure of the speckled band\n",
       "9  the adventure of the engineer's thumb"
      ],
      "text/html": [
       "<div>\n",
       "<style scoped>\n",
       "    .dataframe tbody tr th:only-of-type {\n",
       "        vertical-align: middle;\n",
       "    }\n",
       "\n",
       "    .dataframe tbody tr th {\n",
       "        vertical-align: top;\n",
       "    }\n",
       "\n",
       "    .dataframe thead th {\n",
       "        text-align: right;\n",
       "    }\n",
       "</style>\n",
       "<table border=\"1\" class=\"dataframe\">\n",
       "  <thead>\n",
       "    <tr style=\"text-align: right;\">\n",
       "      <th></th>\n",
       "      <th>Stories</th>\n",
       "    </tr>\n",
       "  </thead>\n",
       "  <tbody>\n",
       "    <tr>\n",
       "      <th>1</th>\n",
       "      <td>a scandal is bohemial! 01</td>\n",
       "    </tr>\n",
       "    <tr>\n",
       "      <th>2</th>\n",
       "      <td>the red-headed leaguge,2</td>\n",
       "    </tr>\n",
       "    <tr>\n",
       "      <th>3</th>\n",
       "      <td>a case, of identity 33</td>\n",
       "    </tr>\n",
       "    <tr>\n",
       "      <th>4</th>\n",
       "      <td>the boscombe valley mystery4</td>\n",
       "    </tr>\n",
       "    <tr>\n",
       "      <th>5</th>\n",
       "      <td>the five orange pipsi</td>\n",
       "    </tr>\n",
       "    <tr>\n",
       "      <th>6</th>\n",
       "      <td>the man with? the twistid lip</td>\n",
       "    </tr>\n",
       "    <tr>\n",
       "      <th>7</th>\n",
       "      <td>the adventure of the blue carbuncle</td>\n",
       "    </tr>\n",
       "    <tr>\n",
       "      <th>8</th>\n",
       "      <td>the adventure of the speckled band</td>\n",
       "    </tr>\n",
       "    <tr>\n",
       "      <th>9</th>\n",
       "      <td>the adventure of the engineer's thumb</td>\n",
       "    </tr>\n",
       "  </tbody>\n",
       "</table>\n",
       "</div>"
      ]
     },
     "metadata": {},
     "execution_count": 182
    }
   ],
   "metadata": {}
  },
  {
   "cell_type": "code",
   "execution_count": 183,
   "source": [
    "import string\n",
    "print(string.punctuation)"
   ],
   "outputs": [
    {
     "output_type": "stream",
     "name": "stdout",
     "text": [
      "!\"#$%&'()*+,-./:;<=>?@[\\]^_`{|}~\n"
     ]
    }
   ],
   "metadata": {}
  },
  {
   "cell_type": "code",
   "execution_count": 184,
   "source": [
    "d_tv = d_tv[\"Stories\"].str.replace(\"[^\\w\\s]\", \"\")\n",
    "d_tv"
   ],
   "outputs": [
    {
     "output_type": "execute_result",
     "data": {
      "text/plain": [
       "1                a scandal is bohemial 01\n",
       "2                  the redheaded leaguge2\n",
       "3                   a case of identity 33\n",
       "4            the boscombe valley mystery4\n",
       "5                   the five orange pipsi\n",
       "6            the man with the twistid lip\n",
       "7     the adventure of the blue carbuncle\n",
       "8      the adventure of the speckled band\n",
       "9    the adventure of the engineers thumb\n",
       "Name: Stories, dtype: object"
      ]
     },
     "metadata": {},
     "execution_count": 184
    }
   ],
   "metadata": {}
  },
  {
   "cell_type": "code",
   "execution_count": 185,
   "source": [
    "# Removing Numbers\n",
    "d_tv = d_tv.str.replace(\"\\d\", \"\")"
   ],
   "outputs": [],
   "metadata": {}
  },
  {
   "cell_type": "code",
   "execution_count": 186,
   "source": [
    "# Stopwords\n",
    "d_tv = pd.DataFrame(d_tv, columns=[\"Stories\"])"
   ],
   "outputs": [],
   "metadata": {}
  },
  {
   "cell_type": "code",
   "execution_count": 165,
   "source": [
    "!pip install nltk"
   ],
   "outputs": [
    {
     "output_type": "stream",
     "name": "stdout",
     "text": [
      "Requirement already satisfied: nltk in /Users/seneralkan/opt/anaconda3/lib/python3.8/site-packages (3.5)\n",
      "Requirement already satisfied: joblib in /Users/seneralkan/opt/anaconda3/lib/python3.8/site-packages (from nltk) (0.17.0)\n",
      "Requirement already satisfied: click in /Users/seneralkan/opt/anaconda3/lib/python3.8/site-packages (from nltk) (7.1.2)\n",
      "Requirement already satisfied: tqdm in /Users/seneralkan/opt/anaconda3/lib/python3.8/site-packages (from nltk) (4.50.2)\n",
      "Requirement already satisfied: regex in /Users/seneralkan/opt/anaconda3/lib/python3.8/site-packages (from nltk) (2020.10.15)\n"
     ]
    }
   ],
   "metadata": {}
  },
  {
   "cell_type": "code",
   "execution_count": 166,
   "source": [
    "import nltk\n",
    "nltk.download(\"stopwords\")"
   ],
   "outputs": [
    {
     "output_type": "stream",
     "name": "stderr",
     "text": [
      "[nltk_data] Downloading package stopwords to\n",
      "[nltk_data]     /Users/seneralkan/nltk_data...\n",
      "[nltk_data]   Package stopwords is already up-to-date!\n"
     ]
    },
    {
     "output_type": "execute_result",
     "data": {
      "text/plain": [
       "True"
      ]
     },
     "metadata": {},
     "execution_count": 166
    }
   ],
   "metadata": {}
  },
  {
   "cell_type": "code",
   "execution_count": 187,
   "source": [
    "from nltk.corpus import stopwords\n",
    "\n",
    "sw = stopwords.words(\"english\")\n",
    "sw"
   ],
   "outputs": [
    {
     "output_type": "execute_result",
     "data": {
      "text/plain": [
       "['i',\n",
       " 'me',\n",
       " 'my',\n",
       " 'myself',\n",
       " 'we',\n",
       " 'our',\n",
       " 'ours',\n",
       " 'ourselves',\n",
       " 'you',\n",
       " \"you're\",\n",
       " \"you've\",\n",
       " \"you'll\",\n",
       " \"you'd\",\n",
       " 'your',\n",
       " 'yours',\n",
       " 'yourself',\n",
       " 'yourselves',\n",
       " 'he',\n",
       " 'him',\n",
       " 'his',\n",
       " 'himself',\n",
       " 'she',\n",
       " \"she's\",\n",
       " 'her',\n",
       " 'hers',\n",
       " 'herself',\n",
       " 'it',\n",
       " \"it's\",\n",
       " 'its',\n",
       " 'itself',\n",
       " 'they',\n",
       " 'them',\n",
       " 'their',\n",
       " 'theirs',\n",
       " 'themselves',\n",
       " 'what',\n",
       " 'which',\n",
       " 'who',\n",
       " 'whom',\n",
       " 'this',\n",
       " 'that',\n",
       " \"that'll\",\n",
       " 'these',\n",
       " 'those',\n",
       " 'am',\n",
       " 'is',\n",
       " 'are',\n",
       " 'was',\n",
       " 'were',\n",
       " 'be',\n",
       " 'been',\n",
       " 'being',\n",
       " 'have',\n",
       " 'has',\n",
       " 'had',\n",
       " 'having',\n",
       " 'do',\n",
       " 'does',\n",
       " 'did',\n",
       " 'doing',\n",
       " 'a',\n",
       " 'an',\n",
       " 'the',\n",
       " 'and',\n",
       " 'but',\n",
       " 'if',\n",
       " 'or',\n",
       " 'because',\n",
       " 'as',\n",
       " 'until',\n",
       " 'while',\n",
       " 'of',\n",
       " 'at',\n",
       " 'by',\n",
       " 'for',\n",
       " 'with',\n",
       " 'about',\n",
       " 'against',\n",
       " 'between',\n",
       " 'into',\n",
       " 'through',\n",
       " 'during',\n",
       " 'before',\n",
       " 'after',\n",
       " 'above',\n",
       " 'below',\n",
       " 'to',\n",
       " 'from',\n",
       " 'up',\n",
       " 'down',\n",
       " 'in',\n",
       " 'out',\n",
       " 'on',\n",
       " 'off',\n",
       " 'over',\n",
       " 'under',\n",
       " 'again',\n",
       " 'further',\n",
       " 'then',\n",
       " 'once',\n",
       " 'here',\n",
       " 'there',\n",
       " 'when',\n",
       " 'where',\n",
       " 'why',\n",
       " 'how',\n",
       " 'all',\n",
       " 'any',\n",
       " 'both',\n",
       " 'each',\n",
       " 'few',\n",
       " 'more',\n",
       " 'most',\n",
       " 'other',\n",
       " 'some',\n",
       " 'such',\n",
       " 'no',\n",
       " 'nor',\n",
       " 'not',\n",
       " 'only',\n",
       " 'own',\n",
       " 'same',\n",
       " 'so',\n",
       " 'than',\n",
       " 'too',\n",
       " 'very',\n",
       " 's',\n",
       " 't',\n",
       " 'can',\n",
       " 'will',\n",
       " 'just',\n",
       " 'don',\n",
       " \"don't\",\n",
       " 'should',\n",
       " \"should've\",\n",
       " 'now',\n",
       " 'd',\n",
       " 'll',\n",
       " 'm',\n",
       " 'o',\n",
       " 're',\n",
       " 've',\n",
       " 'y',\n",
       " 'ain',\n",
       " 'aren',\n",
       " \"aren't\",\n",
       " 'couldn',\n",
       " \"couldn't\",\n",
       " 'didn',\n",
       " \"didn't\",\n",
       " 'doesn',\n",
       " \"doesn't\",\n",
       " 'hadn',\n",
       " \"hadn't\",\n",
       " 'hasn',\n",
       " \"hasn't\",\n",
       " 'haven',\n",
       " \"haven't\",\n",
       " 'isn',\n",
       " \"isn't\",\n",
       " 'ma',\n",
       " 'mightn',\n",
       " \"mightn't\",\n",
       " 'mustn',\n",
       " \"mustn't\",\n",
       " 'needn',\n",
       " \"needn't\",\n",
       " 'shan',\n",
       " \"shan't\",\n",
       " 'shouldn',\n",
       " \"shouldn't\",\n",
       " 'wasn',\n",
       " \"wasn't\",\n",
       " 'weren',\n",
       " \"weren't\",\n",
       " 'won',\n",
       " \"won't\",\n",
       " 'wouldn',\n",
       " \"wouldn't\"]"
      ]
     },
     "metadata": {},
     "execution_count": 187
    }
   ],
   "metadata": {}
  },
  {
   "cell_type": "code",
   "execution_count": 188,
   "source": [
    "d_tv = d_tv[\"Stories\"].apply(lambda x: \" \".join(x for x in x.split() if x not in sw))"
   ],
   "outputs": [],
   "metadata": {}
  },
  {
   "cell_type": "code",
   "execution_count": 189,
   "source": [
    "d_tv"
   ],
   "outputs": [
    {
     "output_type": "execute_result",
     "data": {
      "text/plain": [
       "1             scandal bohemial\n",
       "2            redheaded leaguge\n",
       "3                case identity\n",
       "4      boscombe valley mystery\n",
       "5            five orange pipsi\n",
       "6              man twistid lip\n",
       "7     adventure blue carbuncle\n",
       "8      adventure speckled band\n",
       "9    adventure engineers thumb\n",
       "Name: Stories, dtype: object"
      ]
     },
     "metadata": {},
     "execution_count": 189
    }
   ],
   "metadata": {}
  },
  {
   "cell_type": "code",
   "execution_count": 190,
   "source": [
    "# Removing low frequency sentences\n",
    "d_tv = pd.DataFrame(d_tv, columns=[\"Stories\"])\n",
    "rmv = pd.Series(\" \".join(d_tv[\"Stories\"]).split()).value_counts()[-3:]"
   ],
   "outputs": [],
   "metadata": {}
  },
  {
   "cell_type": "code",
   "execution_count": 191,
   "source": [
    "d_tv[\"Stories\"].apply(lambda x: \" \".join(x for x in x.split() if x not in rmv))"
   ],
   "outputs": [
    {
     "output_type": "execute_result",
     "data": {
      "text/plain": [
       "1                      scandal\n",
       "2            redheaded leaguge\n",
       "3                case identity\n",
       "4      boscombe valley mystery\n",
       "5            five orange pipsi\n",
       "6              man twistid lip\n",
       "7                    adventure\n",
       "8      adventure speckled band\n",
       "9    adventure engineers thumb\n",
       "Name: Stories, dtype: object"
      ]
     },
     "metadata": {},
     "execution_count": 191
    }
   ],
   "metadata": {}
  },
  {
   "cell_type": "code",
   "execution_count": 172,
   "source": [
    "# Tokenization\n",
    "nltk.download(\"punkt\")"
   ],
   "outputs": [
    {
     "output_type": "stream",
     "name": "stderr",
     "text": [
      "[nltk_data] Downloading package punkt to\n",
      "[nltk_data]     /Users/seneralkan/nltk_data...\n",
      "[nltk_data]   Unzipping tokenizers/punkt.zip.\n"
     ]
    },
    {
     "output_type": "execute_result",
     "data": {
      "text/plain": [
       "True"
      ]
     },
     "metadata": {},
     "execution_count": 172
    }
   ],
   "metadata": {}
  },
  {
   "cell_type": "code",
   "execution_count": 173,
   "source": [
    "!pip install textblob"
   ],
   "outputs": [
    {
     "output_type": "stream",
     "name": "stdout",
     "text": [
      "Collecting textblob\n",
      "  Downloading textblob-0.15.3-py2.py3-none-any.whl (636 kB)\n",
      "\u001b[K     |████████████████████████████████| 636 kB 93 kB/s \n",
      "\u001b[?25hRequirement already satisfied: nltk>=3.1 in /Users/seneralkan/opt/anaconda3/lib/python3.8/site-packages (from textblob) (3.5)\n",
      "Requirement already satisfied: joblib in /Users/seneralkan/opt/anaconda3/lib/python3.8/site-packages (from nltk>=3.1->textblob) (0.17.0)\n",
      "Requirement already satisfied: tqdm in /Users/seneralkan/opt/anaconda3/lib/python3.8/site-packages (from nltk>=3.1->textblob) (4.50.2)\n",
      "Requirement already satisfied: regex in /Users/seneralkan/opt/anaconda3/lib/python3.8/site-packages (from nltk>=3.1->textblob) (2020.10.15)\n",
      "Requirement already satisfied: click in /Users/seneralkan/opt/anaconda3/lib/python3.8/site-packages (from nltk>=3.1->textblob) (7.1.2)\n",
      "Installing collected packages: textblob\n",
      "Successfully installed textblob-0.15.3\n"
     ]
    }
   ],
   "metadata": {}
  },
  {
   "cell_type": "code",
   "execution_count": 192,
   "source": [
    "from textblob import TextBlob\n",
    "TextBlob(d_tv[\"Stories\"][1]).words"
   ],
   "outputs": [
    {
     "output_type": "execute_result",
     "data": {
      "text/plain": [
       "WordList(['scandal', 'bohemial'])"
      ]
     },
     "metadata": {},
     "execution_count": 192
    }
   ],
   "metadata": {}
  },
  {
   "cell_type": "code",
   "execution_count": 193,
   "source": [
    "d_tv[\"Stories\"].apply(lambda x: TextBlob(x).words)"
   ],
   "outputs": [
    {
     "output_type": "execute_result",
     "data": {
      "text/plain": [
       "1              [scandal, bohemial]\n",
       "2             [redheaded, leaguge]\n",
       "3                 [case, identity]\n",
       "4      [boscombe, valley, mystery]\n",
       "5            [five, orange, pipsi]\n",
       "6              [man, twistid, lip]\n",
       "7     [adventure, blue, carbuncle]\n",
       "8      [adventure, speckled, band]\n",
       "9    [adventure, engineers, thumb]\n",
       "Name: Stories, dtype: object"
      ]
     },
     "metadata": {},
     "execution_count": 193
    }
   ],
   "metadata": {}
  },
  {
   "cell_type": "code",
   "execution_count": 194,
   "source": [
    "sentence = \"\"\"At eight o'clock on Thursday morning\n",
    "Arthur didn't feel very good.\"\"\"\n",
    "\n",
    "tokens = nltk.word_tokenize(sentence)\n",
    "tokens"
   ],
   "outputs": [
    {
     "output_type": "execute_result",
     "data": {
      "text/plain": [
       "['At',\n",
       " 'eight',\n",
       " \"o'clock\",\n",
       " 'on',\n",
       " 'Thursday',\n",
       " 'morning',\n",
       " 'Arthur',\n",
       " 'did',\n",
       " \"n't\",\n",
       " 'feel',\n",
       " 'very',\n",
       " 'good',\n",
       " '.']"
      ]
     },
     "metadata": {},
     "execution_count": 194
    }
   ],
   "metadata": {}
  },
  {
   "cell_type": "code",
   "execution_count": 195,
   "source": [
    "# Stemming\n",
    "# Reducing the word to the root\n",
    "\n",
    "from nltk.stem import PorterStemmer\n",
    "\n",
    "st = PorterStemmer()\n",
    "\n",
    "d_tv[\"Stories\"].apply(lambda x: \" \".join([st.stem(i) for i in x.split()]))"
   ],
   "outputs": [
    {
     "output_type": "execute_result",
     "data": {
      "text/plain": [
       "1            scandal bohemi\n",
       "2            redhead leagug\n",
       "3                case ident\n",
       "4    boscomb valley mysteri\n",
       "5          five orang pipsi\n",
       "6           man twistid lip\n",
       "7    adventur blue carbuncl\n",
       "8      adventur speckl band\n",
       "9      adventur engin thumb\n",
       "Name: Stories, dtype: object"
      ]
     },
     "metadata": {},
     "execution_count": 195
    }
   ],
   "metadata": {}
  },
  {
   "cell_type": "code",
   "execution_count": 196,
   "source": [
    "# Lemmatization\n",
    "\n",
    "from textblob import Word\n",
    "nltk.download(\"wordnet\")"
   ],
   "outputs": [
    {
     "output_type": "stream",
     "name": "stderr",
     "text": [
      "[nltk_data] Downloading package wordnet to\n",
      "[nltk_data]     /Users/seneralkan/nltk_data...\n",
      "[nltk_data]   Unzipping corpora/wordnet.zip.\n"
     ]
    },
    {
     "output_type": "execute_result",
     "data": {
      "text/plain": [
       "True"
      ]
     },
     "metadata": {},
     "execution_count": 196
    }
   ],
   "metadata": {}
  },
  {
   "cell_type": "code",
   "execution_count": 197,
   "source": [
    "d_tv[\"Stories\"].apply(lambda x: \" \".join([Word(i).lemmatize() for i in x.split()]))"
   ],
   "outputs": [
    {
     "output_type": "execute_result",
     "data": {
      "text/plain": [
       "1            scandal bohemial\n",
       "2           redheaded leaguge\n",
       "3               case identity\n",
       "4     boscombe valley mystery\n",
       "5           five orange pipsi\n",
       "6             man twistid lip\n",
       "7    adventure blue carbuncle\n",
       "8     adventure speckled band\n",
       "9    adventure engineer thumb\n",
       "Name: Stories, dtype: object"
      ]
     },
     "metadata": {},
     "execution_count": 197
    }
   ],
   "metadata": {}
  },
  {
   "cell_type": "code",
   "execution_count": 198,
   "source": [
    "tv[\"Stories\"][0:5]"
   ],
   "outputs": [
    {
     "output_type": "execute_result",
     "data": {
      "text/plain": [
       "1       A Scandal is Bohemial! 01\n",
       "2        The Red-headed Leaguge,2\n",
       "3          A Case, of Identity 33\n",
       "4    The Boscombe Valley Mystery4\n",
       "5           The Five Orange Pipsi\n",
       "Name: Stories, dtype: object"
      ]
     },
     "metadata": {},
     "execution_count": 198
    }
   ],
   "metadata": {}
  },
  {
   "cell_type": "markdown",
   "source": [
    "## NLP Examples"
   ],
   "metadata": {}
  },
  {
   "cell_type": "markdown",
   "source": [
    "### N-Gram"
   ],
   "metadata": {}
  },
  {
   "cell_type": "code",
   "execution_count": 201,
   "source": [
    "hamlet_ac1 = \"\"\"\n",
    "Bernardo climbed the stairs to the castle’s ramparts. It was a bitterly cold night. He made his way carefully through the freezing fog to relieve Francisco of his guard duty. He saw a dim figure and challenged him.\n",
    "‘Who’s there?’\n",
    "‘No, you answer me!’ It was Francisco’s voice. ‘Stop and identify yourself!’\n",
    "Bernardo stopped. ‘Long live the King!’\n",
    "‘Bernardo?’\n",
    "‘Yes, It’s me.’\n",
    "Francisco relaxed. ‘You’re right on time.’\n",
    "\"\"\"\n",
    "\n",
    "TextBlob(hamlet_ac1).ngrams(10)"
   ],
   "outputs": [
    {
     "output_type": "execute_result",
     "data": {
      "text/plain": [
       "[WordList(['Bernardo', 'climbed', 'the', 'stairs', 'to', 'the', 'castle', '’', 's', 'ramparts']),\n",
       " WordList(['climbed', 'the', 'stairs', 'to', 'the', 'castle', '’', 's', 'ramparts', 'It']),\n",
       " WordList(['the', 'stairs', 'to', 'the', 'castle', '’', 's', 'ramparts', 'It', 'was']),\n",
       " WordList(['stairs', 'to', 'the', 'castle', '’', 's', 'ramparts', 'It', 'was', 'a']),\n",
       " WordList(['to', 'the', 'castle', '’', 's', 'ramparts', 'It', 'was', 'a', 'bitterly']),\n",
       " WordList(['the', 'castle', '’', 's', 'ramparts', 'It', 'was', 'a', 'bitterly', 'cold']),\n",
       " WordList(['castle', '’', 's', 'ramparts', 'It', 'was', 'a', 'bitterly', 'cold', 'night']),\n",
       " WordList(['’', 's', 'ramparts', 'It', 'was', 'a', 'bitterly', 'cold', 'night', 'He']),\n",
       " WordList(['s', 'ramparts', 'It', 'was', 'a', 'bitterly', 'cold', 'night', 'He', 'made']),\n",
       " WordList(['ramparts', 'It', 'was', 'a', 'bitterly', 'cold', 'night', 'He', 'made', 'his']),\n",
       " WordList(['It', 'was', 'a', 'bitterly', 'cold', 'night', 'He', 'made', 'his', 'way']),\n",
       " WordList(['was', 'a', 'bitterly', 'cold', 'night', 'He', 'made', 'his', 'way', 'carefully']),\n",
       " WordList(['a', 'bitterly', 'cold', 'night', 'He', 'made', 'his', 'way', 'carefully', 'through']),\n",
       " WordList(['bitterly', 'cold', 'night', 'He', 'made', 'his', 'way', 'carefully', 'through', 'the']),\n",
       " WordList(['cold', 'night', 'He', 'made', 'his', 'way', 'carefully', 'through', 'the', 'freezing']),\n",
       " WordList(['night', 'He', 'made', 'his', 'way', 'carefully', 'through', 'the', 'freezing', 'fog']),\n",
       " WordList(['He', 'made', 'his', 'way', 'carefully', 'through', 'the', 'freezing', 'fog', 'to']),\n",
       " WordList(['made', 'his', 'way', 'carefully', 'through', 'the', 'freezing', 'fog', 'to', 'relieve']),\n",
       " WordList(['his', 'way', 'carefully', 'through', 'the', 'freezing', 'fog', 'to', 'relieve', 'Francisco']),\n",
       " WordList(['way', 'carefully', 'through', 'the', 'freezing', 'fog', 'to', 'relieve', 'Francisco', 'of']),\n",
       " WordList(['carefully', 'through', 'the', 'freezing', 'fog', 'to', 'relieve', 'Francisco', 'of', 'his']),\n",
       " WordList(['through', 'the', 'freezing', 'fog', 'to', 'relieve', 'Francisco', 'of', 'his', 'guard']),\n",
       " WordList(['the', 'freezing', 'fog', 'to', 'relieve', 'Francisco', 'of', 'his', 'guard', 'duty']),\n",
       " WordList(['freezing', 'fog', 'to', 'relieve', 'Francisco', 'of', 'his', 'guard', 'duty', 'He']),\n",
       " WordList(['fog', 'to', 'relieve', 'Francisco', 'of', 'his', 'guard', 'duty', 'He', 'saw']),\n",
       " WordList(['to', 'relieve', 'Francisco', 'of', 'his', 'guard', 'duty', 'He', 'saw', 'a']),\n",
       " WordList(['relieve', 'Francisco', 'of', 'his', 'guard', 'duty', 'He', 'saw', 'a', 'dim']),\n",
       " WordList(['Francisco', 'of', 'his', 'guard', 'duty', 'He', 'saw', 'a', 'dim', 'figure']),\n",
       " WordList(['of', 'his', 'guard', 'duty', 'He', 'saw', 'a', 'dim', 'figure', 'and']),\n",
       " WordList(['his', 'guard', 'duty', 'He', 'saw', 'a', 'dim', 'figure', 'and', 'challenged']),\n",
       " WordList(['guard', 'duty', 'He', 'saw', 'a', 'dim', 'figure', 'and', 'challenged', 'him']),\n",
       " WordList(['duty', 'He', 'saw', 'a', 'dim', 'figure', 'and', 'challenged', 'him', '‘']),\n",
       " WordList(['He', 'saw', 'a', 'dim', 'figure', 'and', 'challenged', 'him', '‘', 'Who']),\n",
       " WordList(['saw', 'a', 'dim', 'figure', 'and', 'challenged', 'him', '‘', 'Who', '’']),\n",
       " WordList(['a', 'dim', 'figure', 'and', 'challenged', 'him', '‘', 'Who', '’', 's']),\n",
       " WordList(['dim', 'figure', 'and', 'challenged', 'him', '‘', 'Who', '’', 's', 'there']),\n",
       " WordList(['figure', 'and', 'challenged', 'him', '‘', 'Who', '’', 's', 'there', '’']),\n",
       " WordList(['and', 'challenged', 'him', '‘', 'Who', '’', 's', 'there', '’', '‘']),\n",
       " WordList(['challenged', 'him', '‘', 'Who', '’', 's', 'there', '’', '‘', 'No']),\n",
       " WordList(['him', '‘', 'Who', '’', 's', 'there', '’', '‘', 'No', 'you']),\n",
       " WordList(['‘', 'Who', '’', 's', 'there', '’', '‘', 'No', 'you', 'answer']),\n",
       " WordList(['Who', '’', 's', 'there', '’', '‘', 'No', 'you', 'answer', 'me']),\n",
       " WordList(['’', 's', 'there', '’', '‘', 'No', 'you', 'answer', 'me', '’']),\n",
       " WordList(['s', 'there', '’', '‘', 'No', 'you', 'answer', 'me', '’', 'It']),\n",
       " WordList(['there', '’', '‘', 'No', 'you', 'answer', 'me', '’', 'It', 'was']),\n",
       " WordList(['’', '‘', 'No', 'you', 'answer', 'me', '’', 'It', 'was', 'Francisco']),\n",
       " WordList(['‘', 'No', 'you', 'answer', 'me', '’', 'It', 'was', 'Francisco', '’']),\n",
       " WordList(['No', 'you', 'answer', 'me', '’', 'It', 'was', 'Francisco', '’', 's']),\n",
       " WordList(['you', 'answer', 'me', '’', 'It', 'was', 'Francisco', '’', 's', 'voice']),\n",
       " WordList(['answer', 'me', '’', 'It', 'was', 'Francisco', '’', 's', 'voice', '‘']),\n",
       " WordList(['me', '’', 'It', 'was', 'Francisco', '’', 's', 'voice', '‘', 'Stop']),\n",
       " WordList(['’', 'It', 'was', 'Francisco', '’', 's', 'voice', '‘', 'Stop', 'and']),\n",
       " WordList(['It', 'was', 'Francisco', '’', 's', 'voice', '‘', 'Stop', 'and', 'identify']),\n",
       " WordList(['was', 'Francisco', '’', 's', 'voice', '‘', 'Stop', 'and', 'identify', 'yourself']),\n",
       " WordList(['Francisco', '’', 's', 'voice', '‘', 'Stop', 'and', 'identify', 'yourself', '’']),\n",
       " WordList(['’', 's', 'voice', '‘', 'Stop', 'and', 'identify', 'yourself', '’', 'Bernardo']),\n",
       " WordList(['s', 'voice', '‘', 'Stop', 'and', 'identify', 'yourself', '’', 'Bernardo', 'stopped']),\n",
       " WordList(['voice', '‘', 'Stop', 'and', 'identify', 'yourself', '’', 'Bernardo', 'stopped', '‘']),\n",
       " WordList(['‘', 'Stop', 'and', 'identify', 'yourself', '’', 'Bernardo', 'stopped', '‘', 'Long']),\n",
       " WordList(['Stop', 'and', 'identify', 'yourself', '’', 'Bernardo', 'stopped', '‘', 'Long', 'live']),\n",
       " WordList(['and', 'identify', 'yourself', '’', 'Bernardo', 'stopped', '‘', 'Long', 'live', 'the']),\n",
       " WordList(['identify', 'yourself', '’', 'Bernardo', 'stopped', '‘', 'Long', 'live', 'the', 'King']),\n",
       " WordList(['yourself', '’', 'Bernardo', 'stopped', '‘', 'Long', 'live', 'the', 'King', '’']),\n",
       " WordList(['’', 'Bernardo', 'stopped', '‘', 'Long', 'live', 'the', 'King', '’', '‘']),\n",
       " WordList(['Bernardo', 'stopped', '‘', 'Long', 'live', 'the', 'King', '’', '‘', 'Bernardo']),\n",
       " WordList(['stopped', '‘', 'Long', 'live', 'the', 'King', '’', '‘', 'Bernardo', '’']),\n",
       " WordList(['‘', 'Long', 'live', 'the', 'King', '’', '‘', 'Bernardo', '’', '‘']),\n",
       " WordList(['Long', 'live', 'the', 'King', '’', '‘', 'Bernardo', '’', '‘', 'Yes']),\n",
       " WordList(['live', 'the', 'King', '’', '‘', 'Bernardo', '’', '‘', 'Yes', 'It']),\n",
       " WordList(['the', 'King', '’', '‘', 'Bernardo', '’', '‘', 'Yes', 'It', '’']),\n",
       " WordList(['King', '’', '‘', 'Bernardo', '’', '‘', 'Yes', 'It', '’', 's']),\n",
       " WordList(['’', '‘', 'Bernardo', '’', '‘', 'Yes', 'It', '’', 's', 'me']),\n",
       " WordList(['‘', 'Bernardo', '’', '‘', 'Yes', 'It', '’', 's', 'me', '’']),\n",
       " WordList(['Bernardo', '’', '‘', 'Yes', 'It', '’', 's', 'me', '’', 'Francisco']),\n",
       " WordList(['’', '‘', 'Yes', 'It', '’', 's', 'me', '’', 'Francisco', 'relaxed']),\n",
       " WordList(['‘', 'Yes', 'It', '’', 's', 'me', '’', 'Francisco', 'relaxed', '‘']),\n",
       " WordList(['Yes', 'It', '’', 's', 'me', '’', 'Francisco', 'relaxed', '‘', 'You']),\n",
       " WordList(['It', '’', 's', 'me', '’', 'Francisco', 'relaxed', '‘', 'You', '’']),\n",
       " WordList(['’', 's', 'me', '’', 'Francisco', 'relaxed', '‘', 'You', '’', 're']),\n",
       " WordList(['s', 'me', '’', 'Francisco', 'relaxed', '‘', 'You', '’', 're', 'right']),\n",
       " WordList(['me', '’', 'Francisco', 'relaxed', '‘', 'You', '’', 're', 'right', 'on']),\n",
       " WordList(['’', 'Francisco', 'relaxed', '‘', 'You', '’', 're', 'right', 'on', 'time']),\n",
       " WordList(['Francisco', 'relaxed', '‘', 'You', '’', 're', 'right', 'on', 'time', '’'])]"
      ]
     },
     "metadata": {},
     "execution_count": 201
    }
   ],
   "metadata": {}
  },
  {
   "cell_type": "markdown",
   "source": [
    "### Part of Speech Tagging (POS)"
   ],
   "metadata": {}
  },
  {
   "cell_type": "code",
   "execution_count": 202,
   "source": [
    "nltk.download(\"averaged_perceptron_tagger\")"
   ],
   "outputs": [
    {
     "output_type": "stream",
     "name": "stderr",
     "text": [
      "[nltk_data] Downloading package averaged_perceptron_tagger to\n",
      "[nltk_data]     /Users/seneralkan/nltk_data...\n",
      "[nltk_data]   Unzipping taggers/averaged_perceptron_tagger.zip.\n"
     ]
    },
    {
     "output_type": "execute_result",
     "data": {
      "text/plain": [
       "True"
      ]
     },
     "metadata": {},
     "execution_count": 202
    }
   ],
   "metadata": {}
  },
  {
   "cell_type": "code",
   "execution_count": 203,
   "source": [
    "TextBlob(d_tv[\"Stories\"][2]).tags"
   ],
   "outputs": [
    {
     "output_type": "execute_result",
     "data": {
      "text/plain": [
       "[('redheaded', 'VBN'), ('leaguge', 'NN')]"
      ]
     },
     "metadata": {},
     "execution_count": 203
    }
   ],
   "metadata": {}
  },
  {
   "cell_type": "code",
   "execution_count": 204,
   "source": [
    "d_tv[\"Stories\"].apply(lambda x: TextBlob(x).tags)"
   ],
   "outputs": [
    {
     "output_type": "execute_result",
     "data": {
      "text/plain": [
       "1                      [(scandal, NN), (bohemial, NN)]\n",
       "2                    [(redheaded, VBN), (leaguge, NN)]\n",
       "3                         [(case, NN), (identity, NN)]\n",
       "4        [(boscombe, NN), (valley, NN), (mystery, NN)]\n",
       "5              [(five, CD), (orange, NN), (pipsi, NN)]\n",
       "6               [(man, NN), (twistid, VBZ), (lip, NN)]\n",
       "7       [(adventure, NN), (blue, JJ), (carbuncle, NN)]\n",
       "8       [(adventure, NN), (speckled, VBD), (band, NN)]\n",
       "9    [(adventure, NN), (engineers, NNS), (thumb, VBP)]\n",
       "Name: Stories, dtype: object"
      ]
     },
     "metadata": {},
     "execution_count": 204
    }
   ],
   "metadata": {}
  },
  {
   "cell_type": "markdown",
   "source": [
    "### Chunking (Shallow Parsing)"
   ],
   "metadata": {}
  },
  {
   "cell_type": "code",
   "execution_count": 205,
   "source": [
    "pos = d_tv[\"Stories\"].apply(lambda x: TextBlob(x).tags)\n",
    "pos"
   ],
   "outputs": [
    {
     "output_type": "execute_result",
     "data": {
      "text/plain": [
       "1                      [(scandal, NN), (bohemial, NN)]\n",
       "2                    [(redheaded, VBN), (leaguge, NN)]\n",
       "3                         [(case, NN), (identity, NN)]\n",
       "4        [(boscombe, NN), (valley, NN), (mystery, NN)]\n",
       "5              [(five, CD), (orange, NN), (pipsi, NN)]\n",
       "6               [(man, NN), (twistid, VBZ), (lip, NN)]\n",
       "7       [(adventure, NN), (blue, JJ), (carbuncle, NN)]\n",
       "8       [(adventure, NN), (speckled, VBD), (band, NN)]\n",
       "9    [(adventure, NN), (engineers, NNS), (thumb, VBP)]\n",
       "Name: Stories, dtype: object"
      ]
     },
     "metadata": {},
     "execution_count": 205
    }
   ],
   "metadata": {}
  },
  {
   "cell_type": "code",
   "execution_count": 207,
   "source": [
    "pos = TextBlob(hamlet_ac1).tags\n",
    "pos"
   ],
   "outputs": [
    {
     "output_type": "execute_result",
     "data": {
      "text/plain": [
       "[('Bernardo', 'NNP'),\n",
       " ('climbed', 'VBD'),\n",
       " ('the', 'DT'),\n",
       " ('stairs', 'NNS'),\n",
       " ('to', 'TO'),\n",
       " ('the', 'DT'),\n",
       " ('castle', 'NN'),\n",
       " ('’', 'NNP'),\n",
       " ('s', 'NN'),\n",
       " ('ramparts', 'NNS'),\n",
       " ('It', 'PRP'),\n",
       " ('was', 'VBD'),\n",
       " ('a', 'DT'),\n",
       " ('bitterly', 'RB'),\n",
       " ('cold', 'JJ'),\n",
       " ('night', 'NN'),\n",
       " ('He', 'PRP'),\n",
       " ('made', 'VBD'),\n",
       " ('his', 'PRP$'),\n",
       " ('way', 'NN'),\n",
       " ('carefully', 'RB'),\n",
       " ('through', 'IN'),\n",
       " ('the', 'DT'),\n",
       " ('freezing', 'NN'),\n",
       " ('fog', 'NN'),\n",
       " ('to', 'TO'),\n",
       " ('relieve', 'VB'),\n",
       " ('Francisco', 'NNP'),\n",
       " ('of', 'IN'),\n",
       " ('his', 'PRP$'),\n",
       " ('guard', 'NN'),\n",
       " ('duty', 'NN'),\n",
       " ('He', 'PRP'),\n",
       " ('saw', 'VBD'),\n",
       " ('a', 'DT'),\n",
       " ('dim', 'JJ'),\n",
       " ('figure', 'NN'),\n",
       " ('and', 'CC'),\n",
       " ('challenged', 'VBD'),\n",
       " ('him', 'PRP'),\n",
       " ('‘', 'NNS'),\n",
       " ('Who', 'WP'),\n",
       " ('’', 'VBP'),\n",
       " ('s', 'VB'),\n",
       " ('there', 'RB'),\n",
       " ('’', 'UH'),\n",
       " ('‘', 'VBZ'),\n",
       " ('No', 'NNP'),\n",
       " ('you', 'PRP'),\n",
       " ('answer', 'VBP'),\n",
       " ('me', 'PRP'),\n",
       " ('’', 'VB'),\n",
       " ('It', 'PRP'),\n",
       " ('was', 'VBD'),\n",
       " ('Francisco', 'NNP'),\n",
       " ('’', 'NNP'),\n",
       " ('s', 'JJ'),\n",
       " ('voice', 'NN'),\n",
       " ('‘', 'JJ'),\n",
       " ('Stop', 'NNP'),\n",
       " ('and', 'CC'),\n",
       " ('identify', 'VB'),\n",
       " ('yourself', 'PRP'),\n",
       " ('Bernardo', 'NNP'),\n",
       " ('stopped', 'VBD'),\n",
       " ('‘', 'RB'),\n",
       " ('Long', 'RB'),\n",
       " ('live', 'VBP'),\n",
       " ('the', 'DT'),\n",
       " ('King', 'NNP'),\n",
       " ('’', 'NN'),\n",
       " ('‘', 'NN'),\n",
       " ('Bernardo', 'NNP'),\n",
       " ('’', 'NNP'),\n",
       " ('‘', 'NNP'),\n",
       " ('Yes', 'NNP'),\n",
       " ('It', 'PRP'),\n",
       " ('’', 'VBZ'),\n",
       " ('s', 'JJ'),\n",
       " ('me.', 'NN'),\n",
       " ('’', 'NNP'),\n",
       " ('Francisco', 'NNP'),\n",
       " ('relaxed', 'NN'),\n",
       " ('‘', 'NN'),\n",
       " ('You', 'PRP'),\n",
       " ('’', 'VBP'),\n",
       " ('re', 'VB'),\n",
       " ('right', 'RB'),\n",
       " ('on', 'IN'),\n",
       " ('time', 'NN'),\n",
       " ('’', 'VB')]"
      ]
     },
     "metadata": {},
     "execution_count": 207
    }
   ],
   "metadata": {}
  },
  {
   "cell_type": "code",
   "execution_count": 209,
   "source": [
    "reg_exp = 'NP: {<DT>?<JJ>*<NN>}'\n",
    "rp = nltk.RegexpParser(reg_exp)\n",
    "results = rp.parse(pos)"
   ],
   "outputs": [],
   "metadata": {}
  },
  {
   "cell_type": "code",
   "execution_count": 210,
   "source": [
    "results.draw()"
   ],
   "outputs": [],
   "metadata": {}
  },
  {
   "cell_type": "markdown",
   "source": [
    "### Named Entity Recognition"
   ],
   "metadata": {}
  },
  {
   "cell_type": "code",
   "execution_count": 211,
   "source": [
    "from nltk import word_tokenize, pos_tag, ne_chunk\n",
    "nltk.download(\"maxent_ne_chunker\")\n",
    "nltk.download(\"words\")"
   ],
   "outputs": [
    {
     "output_type": "stream",
     "name": "stderr",
     "text": [
      "[nltk_data] Downloading package maxent_ne_chunker to\n",
      "[nltk_data]     /Users/seneralkan/nltk_data...\n",
      "[nltk_data]   Unzipping chunkers/maxent_ne_chunker.zip.\n",
      "[nltk_data] Downloading package words to\n",
      "[nltk_data]     /Users/seneralkan/nltk_data...\n",
      "[nltk_data]   Unzipping corpora/words.zip.\n"
     ]
    },
    {
     "output_type": "execute_result",
     "data": {
      "text/plain": [
       "True"
      ]
     },
     "metadata": {},
     "execution_count": 211
    }
   ],
   "metadata": {}
  },
  {
   "cell_type": "code",
   "execution_count": 212,
   "source": [
    "text_2 = \"\"\"\n",
    "K-Means is the first algorithm you must implement for the Visual Cortex assignment.\n",
    "\"\"\"\n",
    "\n",
    "print(ne_chunk(pos_tag(word_tokenize(text_2))))"
   ],
   "outputs": [
    {
     "output_type": "stream",
     "name": "stdout",
     "text": [
      "(S\n",
      "  K-Means/NNS\n",
      "  is/VBZ\n",
      "  the/DT\n",
      "  first/JJ\n",
      "  algorithm/NN\n",
      "  you/PRP\n",
      "  must/MD\n",
      "  implement/VB\n",
      "  for/IN\n",
      "  the/DT\n",
      "  (ORGANIZATION Visual/NNP Cortex/NNP)\n",
      "  assignment/NN\n",
      "  ./.)\n"
     ]
    }
   ],
   "metadata": {}
  },
  {
   "cell_type": "markdown",
   "source": [
    "## Mathematical Processes & Feature Inference "
   ],
   "metadata": {}
  },
  {
   "cell_type": "code",
   "execution_count": 214,
   "source": [
    "# Count letter/character\n",
    "d_tv[\"Stories\"].str.len()"
   ],
   "outputs": [
    {
     "output_type": "execute_result",
     "data": {
      "text/plain": [
       "1    16\n",
       "2    17\n",
       "3    13\n",
       "4    23\n",
       "5    17\n",
       "6    15\n",
       "7    24\n",
       "8    23\n",
       "9    25\n",
       "Name: Stories, dtype: int64"
      ]
     },
     "metadata": {},
     "execution_count": 214
    }
   ],
   "metadata": {}
  },
  {
   "cell_type": "code",
   "execution_count": 215,
   "source": [
    "d_tv[\"Count Letter\"] = d_tv[\"Stories\"].str.len()\n",
    "d_tv"
   ],
   "outputs": [
    {
     "output_type": "execute_result",
     "data": {
      "text/plain": [
       "                     Stories  Count Letter\n",
       "1           scandal bohemial            16\n",
       "2          redheaded leaguge            17\n",
       "3              case identity            13\n",
       "4    boscombe valley mystery            23\n",
       "5          five orange pipsi            17\n",
       "6            man twistid lip            15\n",
       "7   adventure blue carbuncle            24\n",
       "8    adventure speckled band            23\n",
       "9  adventure engineers thumb            25"
      ],
      "text/html": [
       "<div>\n",
       "<style scoped>\n",
       "    .dataframe tbody tr th:only-of-type {\n",
       "        vertical-align: middle;\n",
       "    }\n",
       "\n",
       "    .dataframe tbody tr th {\n",
       "        vertical-align: top;\n",
       "    }\n",
       "\n",
       "    .dataframe thead th {\n",
       "        text-align: right;\n",
       "    }\n",
       "</style>\n",
       "<table border=\"1\" class=\"dataframe\">\n",
       "  <thead>\n",
       "    <tr style=\"text-align: right;\">\n",
       "      <th></th>\n",
       "      <th>Stories</th>\n",
       "      <th>Count Letter</th>\n",
       "    </tr>\n",
       "  </thead>\n",
       "  <tbody>\n",
       "    <tr>\n",
       "      <th>1</th>\n",
       "      <td>scandal bohemial</td>\n",
       "      <td>16</td>\n",
       "    </tr>\n",
       "    <tr>\n",
       "      <th>2</th>\n",
       "      <td>redheaded leaguge</td>\n",
       "      <td>17</td>\n",
       "    </tr>\n",
       "    <tr>\n",
       "      <th>3</th>\n",
       "      <td>case identity</td>\n",
       "      <td>13</td>\n",
       "    </tr>\n",
       "    <tr>\n",
       "      <th>4</th>\n",
       "      <td>boscombe valley mystery</td>\n",
       "      <td>23</td>\n",
       "    </tr>\n",
       "    <tr>\n",
       "      <th>5</th>\n",
       "      <td>five orange pipsi</td>\n",
       "      <td>17</td>\n",
       "    </tr>\n",
       "    <tr>\n",
       "      <th>6</th>\n",
       "      <td>man twistid lip</td>\n",
       "      <td>15</td>\n",
       "    </tr>\n",
       "    <tr>\n",
       "      <th>7</th>\n",
       "      <td>adventure blue carbuncle</td>\n",
       "      <td>24</td>\n",
       "    </tr>\n",
       "    <tr>\n",
       "      <th>8</th>\n",
       "      <td>adventure speckled band</td>\n",
       "      <td>23</td>\n",
       "    </tr>\n",
       "    <tr>\n",
       "      <th>9</th>\n",
       "      <td>adventure engineers thumb</td>\n",
       "      <td>25</td>\n",
       "    </tr>\n",
       "  </tbody>\n",
       "</table>\n",
       "</div>"
      ]
     },
     "metadata": {},
     "execution_count": 215
    }
   ],
   "metadata": {}
  },
  {
   "cell_type": "code",
   "execution_count": 217,
   "source": [
    "# Count sentence\n",
    "d_tv.iloc[0:1,0:1]"
   ],
   "outputs": [
    {
     "output_type": "execute_result",
     "data": {
      "text/plain": [
       "            Stories\n",
       "1  scandal bohemial"
      ],
      "text/html": [
       "<div>\n",
       "<style scoped>\n",
       "    .dataframe tbody tr th:only-of-type {\n",
       "        vertical-align: middle;\n",
       "    }\n",
       "\n",
       "    .dataframe tbody tr th {\n",
       "        vertical-align: top;\n",
       "    }\n",
       "\n",
       "    .dataframe thead th {\n",
       "        text-align: right;\n",
       "    }\n",
       "</style>\n",
       "<table border=\"1\" class=\"dataframe\">\n",
       "  <thead>\n",
       "    <tr style=\"text-align: right;\">\n",
       "      <th></th>\n",
       "      <th>Stories</th>\n",
       "    </tr>\n",
       "  </thead>\n",
       "  <tbody>\n",
       "    <tr>\n",
       "      <th>1</th>\n",
       "      <td>scandal bohemial</td>\n",
       "    </tr>\n",
       "  </tbody>\n",
       "</table>\n",
       "</div>"
      ]
     },
     "metadata": {},
     "execution_count": 217
    }
   ],
   "metadata": {}
  },
  {
   "cell_type": "code",
   "execution_count": 219,
   "source": [
    "d_tv[\"Stories\"].apply(lambda x: len(str(x).split(\" \")))"
   ],
   "outputs": [
    {
     "output_type": "execute_result",
     "data": {
      "text/plain": [
       "1    2\n",
       "2    2\n",
       "3    2\n",
       "4    3\n",
       "5    3\n",
       "6    3\n",
       "7    3\n",
       "8    3\n",
       "9    3\n",
       "Name: Stories, dtype: int64"
      ]
     },
     "metadata": {},
     "execution_count": 219
    }
   ],
   "metadata": {}
  },
  {
   "cell_type": "code",
   "execution_count": 220,
   "source": [
    "d_tv[\"Count Sentence\"] = d_tv[\"Stories\"].apply(lambda x: len(str(x).split(\" \")))\n",
    "d_tv"
   ],
   "outputs": [
    {
     "output_type": "execute_result",
     "data": {
      "text/plain": [
       "                     Stories  Count Letter  Count Sentence\n",
       "1           scandal bohemial            16               2\n",
       "2          redheaded leaguge            17               2\n",
       "3              case identity            13               2\n",
       "4    boscombe valley mystery            23               3\n",
       "5          five orange pipsi            17               3\n",
       "6            man twistid lip            15               3\n",
       "7   adventure blue carbuncle            24               3\n",
       "8    adventure speckled band            23               3\n",
       "9  adventure engineers thumb            25               3"
      ],
      "text/html": [
       "<div>\n",
       "<style scoped>\n",
       "    .dataframe tbody tr th:only-of-type {\n",
       "        vertical-align: middle;\n",
       "    }\n",
       "\n",
       "    .dataframe tbody tr th {\n",
       "        vertical-align: top;\n",
       "    }\n",
       "\n",
       "    .dataframe thead th {\n",
       "        text-align: right;\n",
       "    }\n",
       "</style>\n",
       "<table border=\"1\" class=\"dataframe\">\n",
       "  <thead>\n",
       "    <tr style=\"text-align: right;\">\n",
       "      <th></th>\n",
       "      <th>Stories</th>\n",
       "      <th>Count Letter</th>\n",
       "      <th>Count Sentence</th>\n",
       "    </tr>\n",
       "  </thead>\n",
       "  <tbody>\n",
       "    <tr>\n",
       "      <th>1</th>\n",
       "      <td>scandal bohemial</td>\n",
       "      <td>16</td>\n",
       "      <td>2</td>\n",
       "    </tr>\n",
       "    <tr>\n",
       "      <th>2</th>\n",
       "      <td>redheaded leaguge</td>\n",
       "      <td>17</td>\n",
       "      <td>2</td>\n",
       "    </tr>\n",
       "    <tr>\n",
       "      <th>3</th>\n",
       "      <td>case identity</td>\n",
       "      <td>13</td>\n",
       "      <td>2</td>\n",
       "    </tr>\n",
       "    <tr>\n",
       "      <th>4</th>\n",
       "      <td>boscombe valley mystery</td>\n",
       "      <td>23</td>\n",
       "      <td>3</td>\n",
       "    </tr>\n",
       "    <tr>\n",
       "      <th>5</th>\n",
       "      <td>five orange pipsi</td>\n",
       "      <td>17</td>\n",
       "      <td>3</td>\n",
       "    </tr>\n",
       "    <tr>\n",
       "      <th>6</th>\n",
       "      <td>man twistid lip</td>\n",
       "      <td>15</td>\n",
       "      <td>3</td>\n",
       "    </tr>\n",
       "    <tr>\n",
       "      <th>7</th>\n",
       "      <td>adventure blue carbuncle</td>\n",
       "      <td>24</td>\n",
       "      <td>3</td>\n",
       "    </tr>\n",
       "    <tr>\n",
       "      <th>8</th>\n",
       "      <td>adventure speckled band</td>\n",
       "      <td>23</td>\n",
       "      <td>3</td>\n",
       "    </tr>\n",
       "    <tr>\n",
       "      <th>9</th>\n",
       "      <td>adventure engineers thumb</td>\n",
       "      <td>25</td>\n",
       "      <td>3</td>\n",
       "    </tr>\n",
       "  </tbody>\n",
       "</table>\n",
       "</div>"
      ]
     },
     "metadata": {},
     "execution_count": 220
    }
   ],
   "metadata": {}
  },
  {
   "cell_type": "code",
   "execution_count": 222,
   "source": [
    "# Grab the special characters\n",
    "d_tv[\"Stories\"].apply(lambda x: len([x for x in x.split() \n",
    "                                    if x.startswith(\"adventure\")]))"
   ],
   "outputs": [
    {
     "output_type": "execute_result",
     "data": {
      "text/plain": [
       "1    0\n",
       "2    0\n",
       "3    0\n",
       "4    0\n",
       "5    0\n",
       "6    0\n",
       "7    1\n",
       "8    1\n",
       "9    1\n",
       "Name: Stories, dtype: int64"
      ]
     },
     "metadata": {},
     "execution_count": 222
    }
   ],
   "metadata": {}
  },
  {
   "cell_type": "code",
   "execution_count": 223,
   "source": [
    "d_tv[\"Special Character\"] = d_tv[\"Stories\"].apply(lambda x: len([x for x in x.split() \n",
    "                                    if x.startswith(\"adventure\")]))"
   ],
   "outputs": [],
   "metadata": {}
  },
  {
   "cell_type": "code",
   "execution_count": 227,
   "source": [
    "tv"
   ],
   "outputs": [
    {
     "output_type": "execute_result",
     "data": {
      "text/plain": [
       "                                 Stories\n",
       "1              A Scandal is Bohemial! 01\n",
       "2               The Red-headed Leaguge,2\n",
       "3                 A Case, of Identity 33\n",
       "4           The Boscombe Valley Mystery4\n",
       "5                  The Five Orange Pipsi\n",
       "6          The Man with? the Twistid lip\n",
       "7    The Adventure of the Blue Carbuncle\n",
       "8     The Adventure of the Speckled Band\n",
       "9  The Adventure of the Engineer's Thumb"
      ],
      "text/html": [
       "<div>\n",
       "<style scoped>\n",
       "    .dataframe tbody tr th:only-of-type {\n",
       "        vertical-align: middle;\n",
       "    }\n",
       "\n",
       "    .dataframe tbody tr th {\n",
       "        vertical-align: top;\n",
       "    }\n",
       "\n",
       "    .dataframe thead th {\n",
       "        text-align: right;\n",
       "    }\n",
       "</style>\n",
       "<table border=\"1\" class=\"dataframe\">\n",
       "  <thead>\n",
       "    <tr style=\"text-align: right;\">\n",
       "      <th></th>\n",
       "      <th>Stories</th>\n",
       "    </tr>\n",
       "  </thead>\n",
       "  <tbody>\n",
       "    <tr>\n",
       "      <th>1</th>\n",
       "      <td>A Scandal is Bohemial! 01</td>\n",
       "    </tr>\n",
       "    <tr>\n",
       "      <th>2</th>\n",
       "      <td>The Red-headed Leaguge,2</td>\n",
       "    </tr>\n",
       "    <tr>\n",
       "      <th>3</th>\n",
       "      <td>A Case, of Identity 33</td>\n",
       "    </tr>\n",
       "    <tr>\n",
       "      <th>4</th>\n",
       "      <td>The Boscombe Valley Mystery4</td>\n",
       "    </tr>\n",
       "    <tr>\n",
       "      <th>5</th>\n",
       "      <td>The Five Orange Pipsi</td>\n",
       "    </tr>\n",
       "    <tr>\n",
       "      <th>6</th>\n",
       "      <td>The Man with? the Twistid lip</td>\n",
       "    </tr>\n",
       "    <tr>\n",
       "      <th>7</th>\n",
       "      <td>The Adventure of the Blue Carbuncle</td>\n",
       "    </tr>\n",
       "    <tr>\n",
       "      <th>8</th>\n",
       "      <td>The Adventure of the Speckled Band</td>\n",
       "    </tr>\n",
       "    <tr>\n",
       "      <th>9</th>\n",
       "      <td>The Adventure of the Engineer's Thumb</td>\n",
       "    </tr>\n",
       "  </tbody>\n",
       "</table>\n",
       "</div>"
      ]
     },
     "metadata": {},
     "execution_count": 227
    }
   ],
   "metadata": {}
  },
  {
   "cell_type": "code",
   "execution_count": 228,
   "source": [
    "d_tv[\"Count Number\"] = tv[\"Stories\"].apply(lambda x: len([x for x in x.split() \n",
    "                                    if x.isdigit()]))\n",
    "d_tv"
   ],
   "outputs": [
    {
     "output_type": "execute_result",
     "data": {
      "text/plain": [
       "                     Stories  Count Letter  Count Sentence  Special Character  \\\n",
       "1           scandal bohemial            16               2                  0   \n",
       "2          redheaded leaguge            17               2                  0   \n",
       "3              case identity            13               2                  0   \n",
       "4    boscombe valley mystery            23               3                  0   \n",
       "5          five orange pipsi            17               3                  0   \n",
       "6            man twistid lip            15               3                  0   \n",
       "7   adventure blue carbuncle            24               3                  1   \n",
       "8    adventure speckled band            23               3                  1   \n",
       "9  adventure engineers thumb            25               3                  1   \n",
       "\n",
       "   Count Number  \n",
       "1             1  \n",
       "2             0  \n",
       "3             1  \n",
       "4             0  \n",
       "5             0  \n",
       "6             0  \n",
       "7             0  \n",
       "8             0  \n",
       "9             0  "
      ],
      "text/html": [
       "<div>\n",
       "<style scoped>\n",
       "    .dataframe tbody tr th:only-of-type {\n",
       "        vertical-align: middle;\n",
       "    }\n",
       "\n",
       "    .dataframe tbody tr th {\n",
       "        vertical-align: top;\n",
       "    }\n",
       "\n",
       "    .dataframe thead th {\n",
       "        text-align: right;\n",
       "    }\n",
       "</style>\n",
       "<table border=\"1\" class=\"dataframe\">\n",
       "  <thead>\n",
       "    <tr style=\"text-align: right;\">\n",
       "      <th></th>\n",
       "      <th>Stories</th>\n",
       "      <th>Count Letter</th>\n",
       "      <th>Count Sentence</th>\n",
       "      <th>Special Character</th>\n",
       "      <th>Count Number</th>\n",
       "    </tr>\n",
       "  </thead>\n",
       "  <tbody>\n",
       "    <tr>\n",
       "      <th>1</th>\n",
       "      <td>scandal bohemial</td>\n",
       "      <td>16</td>\n",
       "      <td>2</td>\n",
       "      <td>0</td>\n",
       "      <td>1</td>\n",
       "    </tr>\n",
       "    <tr>\n",
       "      <th>2</th>\n",
       "      <td>redheaded leaguge</td>\n",
       "      <td>17</td>\n",
       "      <td>2</td>\n",
       "      <td>0</td>\n",
       "      <td>0</td>\n",
       "    </tr>\n",
       "    <tr>\n",
       "      <th>3</th>\n",
       "      <td>case identity</td>\n",
       "      <td>13</td>\n",
       "      <td>2</td>\n",
       "      <td>0</td>\n",
       "      <td>1</td>\n",
       "    </tr>\n",
       "    <tr>\n",
       "      <th>4</th>\n",
       "      <td>boscombe valley mystery</td>\n",
       "      <td>23</td>\n",
       "      <td>3</td>\n",
       "      <td>0</td>\n",
       "      <td>0</td>\n",
       "    </tr>\n",
       "    <tr>\n",
       "      <th>5</th>\n",
       "      <td>five orange pipsi</td>\n",
       "      <td>17</td>\n",
       "      <td>3</td>\n",
       "      <td>0</td>\n",
       "      <td>0</td>\n",
       "    </tr>\n",
       "    <tr>\n",
       "      <th>6</th>\n",
       "      <td>man twistid lip</td>\n",
       "      <td>15</td>\n",
       "      <td>3</td>\n",
       "      <td>0</td>\n",
       "      <td>0</td>\n",
       "    </tr>\n",
       "    <tr>\n",
       "      <th>7</th>\n",
       "      <td>adventure blue carbuncle</td>\n",
       "      <td>24</td>\n",
       "      <td>3</td>\n",
       "      <td>1</td>\n",
       "      <td>0</td>\n",
       "    </tr>\n",
       "    <tr>\n",
       "      <th>8</th>\n",
       "      <td>adventure speckled band</td>\n",
       "      <td>23</td>\n",
       "      <td>3</td>\n",
       "      <td>1</td>\n",
       "      <td>0</td>\n",
       "    </tr>\n",
       "    <tr>\n",
       "      <th>9</th>\n",
       "      <td>adventure engineers thumb</td>\n",
       "      <td>25</td>\n",
       "      <td>3</td>\n",
       "      <td>1</td>\n",
       "      <td>0</td>\n",
       "    </tr>\n",
       "  </tbody>\n",
       "</table>\n",
       "</div>"
      ]
     },
     "metadata": {},
     "execution_count": 228
    }
   ],
   "metadata": {}
  },
  {
   "cell_type": "markdown",
   "source": [
    "### Visualisation"
   ],
   "metadata": {}
  },
  {
   "cell_type": "code",
   "execution_count": 229,
   "source": [
    "import pandas as pd\n",
    "data = pd.read_csv(\"train.tsv\", sep= \"\\t\")\n",
    "data.head()"
   ],
   "outputs": [
    {
     "output_type": "execute_result",
     "data": {
      "text/plain": [
       "   PhraseId  SentenceId                                             Phrase  \\\n",
       "0         1           1  A series of escapades demonstrating the adage ...   \n",
       "1         2           1  A series of escapades demonstrating the adage ...   \n",
       "2         3           1                                           A series   \n",
       "3         4           1                                                  A   \n",
       "4         5           1                                             series   \n",
       "\n",
       "   Sentiment  \n",
       "0          1  \n",
       "1          2  \n",
       "2          2  \n",
       "3          2  \n",
       "4          2  "
      ],
      "text/html": [
       "<div>\n",
       "<style scoped>\n",
       "    .dataframe tbody tr th:only-of-type {\n",
       "        vertical-align: middle;\n",
       "    }\n",
       "\n",
       "    .dataframe tbody tr th {\n",
       "        vertical-align: top;\n",
       "    }\n",
       "\n",
       "    .dataframe thead th {\n",
       "        text-align: right;\n",
       "    }\n",
       "</style>\n",
       "<table border=\"1\" class=\"dataframe\">\n",
       "  <thead>\n",
       "    <tr style=\"text-align: right;\">\n",
       "      <th></th>\n",
       "      <th>PhraseId</th>\n",
       "      <th>SentenceId</th>\n",
       "      <th>Phrase</th>\n",
       "      <th>Sentiment</th>\n",
       "    </tr>\n",
       "  </thead>\n",
       "  <tbody>\n",
       "    <tr>\n",
       "      <th>0</th>\n",
       "      <td>1</td>\n",
       "      <td>1</td>\n",
       "      <td>A series of escapades demonstrating the adage ...</td>\n",
       "      <td>1</td>\n",
       "    </tr>\n",
       "    <tr>\n",
       "      <th>1</th>\n",
       "      <td>2</td>\n",
       "      <td>1</td>\n",
       "      <td>A series of escapades demonstrating the adage ...</td>\n",
       "      <td>2</td>\n",
       "    </tr>\n",
       "    <tr>\n",
       "      <th>2</th>\n",
       "      <td>3</td>\n",
       "      <td>1</td>\n",
       "      <td>A series</td>\n",
       "      <td>2</td>\n",
       "    </tr>\n",
       "    <tr>\n",
       "      <th>3</th>\n",
       "      <td>4</td>\n",
       "      <td>1</td>\n",
       "      <td>A</td>\n",
       "      <td>2</td>\n",
       "    </tr>\n",
       "    <tr>\n",
       "      <th>4</th>\n",
       "      <td>5</td>\n",
       "      <td>1</td>\n",
       "      <td>series</td>\n",
       "      <td>2</td>\n",
       "    </tr>\n",
       "  </tbody>\n",
       "</table>\n",
       "</div>"
      ]
     },
     "metadata": {},
     "execution_count": 229
    }
   ],
   "metadata": {}
  },
  {
   "cell_type": "code",
   "execution_count": 230,
   "source": [
    "data.info()"
   ],
   "outputs": [
    {
     "output_type": "stream",
     "name": "stdout",
     "text": [
      "<class 'pandas.core.frame.DataFrame'>\n",
      "RangeIndex: 156060 entries, 0 to 156059\n",
      "Data columns (total 4 columns):\n",
      " #   Column      Non-Null Count   Dtype \n",
      "---  ------      --------------   ----- \n",
      " 0   PhraseId    156060 non-null  int64 \n",
      " 1   SentenceId  156060 non-null  int64 \n",
      " 2   Phrase      156060 non-null  object\n",
      " 3   Sentiment   156060 non-null  int64 \n",
      "dtypes: int64(3), object(1)\n",
      "memory usage: 4.8+ MB\n"
     ]
    }
   ],
   "metadata": {}
  },
  {
   "cell_type": "code",
   "execution_count": null,
   "source": [],
   "outputs": [],
   "metadata": {}
  },
  {
   "cell_type": "code",
   "execution_count": 231,
   "source": [
    "# Lowercase Uppercase\n",
    "data[\"Phrase\"] = data[\"Phrase\"].apply(lambda x: \" \".join(x.lower() for x in x.split()))\n",
    "# Punctuation\n",
    "data[\"Phrase\"] = data[\"Phrase\"].str.replace(\"[^\\w\\s]\", \"\")\n",
    "# Numbers\n",
    "data[\"Phrase\"] = data[\"Phrase\"].str.replace(\"\\d\", \"\")"
   ],
   "outputs": [],
   "metadata": {}
  },
  {
   "cell_type": "code",
   "execution_count": 232,
   "source": [
    "# Stopwords\n",
    "import nltk\n",
    "nltk.download(\"stopwords\")\n",
    "from nltk.corpus import stopwords\n",
    "\n",
    "sw = stopwords.words(\"english\")\n",
    "data[\"Phrase\"] = data[\"Phrase\"].apply(lambda x: \" \".join(x for x in x.split() if x not in sw))\n"
   ],
   "outputs": [
    {
     "output_type": "stream",
     "name": "stderr",
     "text": [
      "[nltk_data] Downloading package stopwords to\n",
      "[nltk_data]     /Users/seneralkan/nltk_data...\n",
      "[nltk_data]   Package stopwords is already up-to-date!\n"
     ]
    }
   ],
   "metadata": {}
  },
  {
   "cell_type": "code",
   "execution_count": 233,
   "source": [
    "# Removing rare elements\n",
    "\n",
    "rmv = pd.Series(\" \".join(data[\"Phrase\"]).split()).value_counts()[-1000:]\n",
    "data[\"Phrase\"] = data[\"Phrase\"].apply(lambda x: \" \".join(x for x in x.split() if x not in rmv))"
   ],
   "outputs": [],
   "metadata": {}
  },
  {
   "cell_type": "code",
   "execution_count": 234,
   "source": [
    "# Lemmi\n",
    "from textblob import Word\n",
    "data[\"Phrase\"] = data[\"Phrase\"].apply(lambda x: \" \".join([Word(i).lemmatize() for i in x.split()]))\n",
    "data[\"Phrase\"].head()"
   ],
   "outputs": [
    {
     "output_type": "execute_result",
     "data": {
      "text/plain": [
       "0    series demonstrating adage good goose also goo...\n",
       "1                series demonstrating adage good goose\n",
       "2                                               series\n",
       "3                                                     \n",
       "4                                               series\n",
       "Name: Phrase, dtype: object"
      ]
     },
     "metadata": {},
     "execution_count": 234
    }
   ],
   "metadata": {}
  },
  {
   "cell_type": "code",
   "execution_count": 235,
   "source": [
    "# Term Frequency\n",
    "tf1 = (data[\"Phrase\"]).apply(lambda x: \n",
    "    pd.value_counts(x.split(\" \"))).sum(axis=0).reset_index()"
   ],
   "outputs": [],
   "metadata": {}
  },
  {
   "cell_type": "code",
   "execution_count": 236,
   "source": [
    "tf1.columns = [\"words\", \"tf\"]\n",
    "tf1.head()"
   ],
   "outputs": [
    {
     "output_type": "execute_result",
     "data": {
      "text/plain": [
       "    words      tf\n",
       "0    good  2066.0\n",
       "1  gander     9.0\n",
       "2  amount   184.0\n",
       "3    also   659.0\n",
       "4   goose    34.0"
      ],
      "text/html": [
       "<div>\n",
       "<style scoped>\n",
       "    .dataframe tbody tr th:only-of-type {\n",
       "        vertical-align: middle;\n",
       "    }\n",
       "\n",
       "    .dataframe tbody tr th {\n",
       "        vertical-align: top;\n",
       "    }\n",
       "\n",
       "    .dataframe thead th {\n",
       "        text-align: right;\n",
       "    }\n",
       "</style>\n",
       "<table border=\"1\" class=\"dataframe\">\n",
       "  <thead>\n",
       "    <tr style=\"text-align: right;\">\n",
       "      <th></th>\n",
       "      <th>words</th>\n",
       "      <th>tf</th>\n",
       "    </tr>\n",
       "  </thead>\n",
       "  <tbody>\n",
       "    <tr>\n",
       "      <th>0</th>\n",
       "      <td>good</td>\n",
       "      <td>2066.0</td>\n",
       "    </tr>\n",
       "    <tr>\n",
       "      <th>1</th>\n",
       "      <td>gander</td>\n",
       "      <td>9.0</td>\n",
       "    </tr>\n",
       "    <tr>\n",
       "      <th>2</th>\n",
       "      <td>amount</td>\n",
       "      <td>184.0</td>\n",
       "    </tr>\n",
       "    <tr>\n",
       "      <th>3</th>\n",
       "      <td>also</td>\n",
       "      <td>659.0</td>\n",
       "    </tr>\n",
       "    <tr>\n",
       "      <th>4</th>\n",
       "      <td>goose</td>\n",
       "      <td>34.0</td>\n",
       "    </tr>\n",
       "  </tbody>\n",
       "</table>\n",
       "</div>"
      ]
     },
     "metadata": {},
     "execution_count": 236
    }
   ],
   "metadata": {}
  },
  {
   "cell_type": "code",
   "execution_count": 237,
   "source": [
    "tf1.info()"
   ],
   "outputs": [
    {
     "output_type": "stream",
     "name": "stdout",
     "text": [
      "<class 'pandas.core.frame.DataFrame'>\n",
      "RangeIndex: 13834 entries, 0 to 13833\n",
      "Data columns (total 2 columns):\n",
      " #   Column  Non-Null Count  Dtype  \n",
      "---  ------  --------------  -----  \n",
      " 0   words   13834 non-null  object \n",
      " 1   tf      13834 non-null  float64\n",
      "dtypes: float64(1), object(1)\n",
      "memory usage: 216.3+ KB\n"
     ]
    }
   ],
   "metadata": {}
  },
  {
   "cell_type": "code",
   "execution_count": 238,
   "source": [
    "tf1.nunique()"
   ],
   "outputs": [
    {
     "output_type": "execute_result",
     "data": {
      "text/plain": [
       "words    13834\n",
       "tf         513\n",
       "dtype: int64"
      ]
     },
     "metadata": {},
     "execution_count": 238
    }
   ],
   "metadata": {}
  },
  {
   "cell_type": "code",
   "execution_count": 239,
   "source": [
    "a = tf1[tf1[\"tf\"] > 1000]"
   ],
   "outputs": [],
   "metadata": {}
  },
  {
   "cell_type": "code",
   "execution_count": 240,
   "source": [
    "a.plot.bar(x =\"words\", y=\"tf\");"
   ],
   "outputs": [
    {
     "output_type": "display_data",
     "data": {
      "text/plain": [
       "<Figure size 432x288 with 1 Axes>"
      ],
      "image/png": "[encoded data removed]"
     },
     "metadata": {
      "needs_background": "light"
     }
    }
   ],
   "metadata": {}
  },
  {
   "cell_type": "code",
   "execution_count": null,
   "source": [
    "# Word Cloud Processes\n",
    "!pip install wordcloud"
   ],
   "outputs": [],
   "metadata": {}
  },
  {
   "cell_type": "code",
   "execution_count": 242,
   "source": [
    "import numpy as np \n",
    "import pandas  as pd \n",
    "from os import path \n",
    "from PIL import Image\n",
    "from wordcloud import WordCloud, STOPWORDS, ImageColorGenerator\n",
    "import matplotlib.pyplot as plt"
   ],
   "outputs": [],
   "metadata": {}
  },
  {
   "cell_type": "code",
   "execution_count": 244,
   "source": [
    "text = data[\"Phrase\"][0]"
   ],
   "outputs": [],
   "metadata": {}
  },
  {
   "cell_type": "code",
   "execution_count": 248,
   "source": [
    "word_cloud = WordCloud(max_font_size=50,\n",
    "max_words=100,\n",
    "background_color=\"white\").generate(text)\n",
    "\n",
    "plt.figure()\n",
    "plt.imshow(word_cloud, interpolation=\"bilinear\")\n",
    "plt.axis(\"off\")\n",
    "plt.show()"
   ],
   "outputs": [
    {
     "output_type": "display_data",
     "data": {
      "text/plain": [
       "<Figure size 432x288 with 1 Axes>"
      ],
      "image/png": "[encoded data removed]"
     },
     "metadata": {
      "needs_background": "light"
     }
    }
   ],
   "metadata": {}
  },
  {
   "cell_type": "code",
   "execution_count": 249,
   "source": [
    "text = \" \".join(i for i in data.Phrase)"
   ],
   "outputs": [],
   "metadata": {}
  },
  {
   "cell_type": "code",
   "execution_count": 250,
   "source": [
    "word_cloud = WordCloud(max_font_size=50,\n",
    "max_words=100,\n",
    "background_color=\"white\").generate(text)\n",
    "\n",
    "plt.figure()\n",
    "plt.imshow(word_cloud, interpolation=\"bilinear\")\n",
    "plt.axis(\"off\")\n",
    "plt.show()"
   ],
   "outputs": [
    {
     "output_type": "display_data",
     "data": {
      "text/plain": [
       "<Figure size 432x288 with 1 Axes>"
      ],
      "image/png": "[encoded data removed]"
     },
     "metadata": {
      "needs_background": "light"
     }
    }
   ],
   "metadata": {}
  },
  {
   "cell_type": "code",
   "execution_count": 253,
   "source": [
    "# Creating WordCloud with Template\n",
    "\n",
    "img_mask = np.array(Image.open(\"tr.png\"))\n",
    "img_mask"
   ],
   "outputs": [
    {
     "output_type": "execute_result",
     "data": {
      "text/plain": [
       "array([[[227,  10,  23],\n",
       "        [227,  10,  23],\n",
       "        [227,  10,  23],\n",
       "        ...,\n",
       "        [227,  10,  23],\n",
       "        [227,  10,  23],\n",
       "        [227,  10,  23]],\n",
       "\n",
       "       [[227,  10,  23],\n",
       "        [227,  10,  23],\n",
       "        [227,  10,  23],\n",
       "        ...,\n",
       "        [227,  10,  23],\n",
       "        [227,  10,  23],\n",
       "        [227,  10,  23]],\n",
       "\n",
       "       [[227,  10,  23],\n",
       "        [227,  10,  23],\n",
       "        [227,  10,  23],\n",
       "        ...,\n",
       "        [227,  10,  23],\n",
       "        [227,  10,  23],\n",
       "        [227,  10,  23]],\n",
       "\n",
       "       ...,\n",
       "\n",
       "       [[227,  10,  23],\n",
       "        [227,  10,  23],\n",
       "        [227,  10,  23],\n",
       "        ...,\n",
       "        [227,  10,  23],\n",
       "        [227,  10,  23],\n",
       "        [227,  10,  23]],\n",
       "\n",
       "       [[227,  10,  23],\n",
       "        [227,  10,  23],\n",
       "        [227,  10,  23],\n",
       "        ...,\n",
       "        [227,  10,  23],\n",
       "        [227,  10,  23],\n",
       "        [227,  10,  23]],\n",
       "\n",
       "       [[227,  10,  23],\n",
       "        [227,  10,  23],\n",
       "        [227,  10,  23],\n",
       "        ...,\n",
       "        [227,  10,  23],\n",
       "        [227,  10,  23],\n",
       "        [227,  10,  23]]], dtype=uint8)"
      ]
     },
     "metadata": {},
     "execution_count": 253
    }
   ],
   "metadata": {}
  },
  {
   "cell_type": "code",
   "execution_count": 256,
   "source": [
    "word_cloud = WordCloud(background_color=\"white\",\n",
    "max_font_size=100,\n",
    "mask = img_mask,\n",
    "contour_width=3,\n",
    "contour_color= \"firebrick\"\n",
    ").generate(text)\n",
    "\n",
    "plt.figure(figsize=(10,15))\n",
    "plt.imshow(word_cloud, interpolation=\"bilinear\")\n",
    "plt.axis(\"off\")\n",
    "plt.show()"
   ],
   "outputs": [
    {
     "output_type": "display_data",
     "data": {
      "text/plain": [
       "<Figure size 720x1080 with 1 Axes>"
      ],
      "image/png": "[encoded data removed]"
     },
     "metadata": {
      "needs_background": "light"
     }
    }
   ],
   "metadata": {}
  },
  {
   "cell_type": "markdown",
   "source": [
    "### Sentiment Analysis and Classification"
   ],
   "metadata": {}
  },
  {
   "cell_type": "code",
   "execution_count": 257,
   "source": [
    "from textblob import TextBlob\n",
    "from sklearn import model_selection, preprocessing, linear_model, naive_bayes, metrics\n",
    "from sklearn.feature_extraction.text import TfidfVectorizer, CountVectorizer\n",
    "from sklearn import decomposition, ensemble"
   ],
   "outputs": [],
   "metadata": {}
  },
  {
   "cell_type": "code",
   "execution_count": 259,
   "source": [
    "!pip install tensorflow"
   ],
   "outputs": [
    {
     "output_type": "stream",
     "name": "stdout",
     "text": [
      "Collecting tensorflow\n",
      "  Downloading tensorflow-2.5.0-cp38-cp38-macosx_10_11_x86_64.whl (195.7 MB)\n",
      "\u001b[K     |████████████████████████████████| 195.7 MB 1.8 MB/s \n",
      "\u001b[?25hCollecting opt-einsum~=3.3.0\n",
      "  Downloading opt_einsum-3.3.0-py3-none-any.whl (65 kB)\n",
      "\u001b[K     |████████████████████████████████| 65 kB 1.6 MB/s \n",
      "\u001b[?25hCollecting astunparse~=1.6.3\n",
      "  Downloading astunparse-1.6.3-py2.py3-none-any.whl (12 kB)\n",
      "Collecting h5py~=3.1.0\n",
      "  Downloading h5py-3.1.0-cp38-cp38-macosx_10_9_x86_64.whl (2.9 MB)\n",
      "\u001b[K     |████████████████████████████████| 2.9 MB 1.6 MB/s \n",
      "\u001b[?25hCollecting tensorboard~=2.5\n",
      "  Downloading tensorboard-2.5.0-py3-none-any.whl (6.0 MB)\n",
      "\u001b[K     |████████████████████████████████| 6.0 MB 1.4 MB/s \n",
      "\u001b[?25hCollecting termcolor~=1.1.0\n",
      "  Downloading termcolor-1.1.0.tar.gz (3.9 kB)\n",
      "Collecting keras-nightly~=2.5.0.dev\n",
      "  Downloading keras_nightly-2.5.0.dev2021032900-py2.py3-none-any.whl (1.2 MB)\n",
      "\u001b[K     |████████████████████████████████| 1.2 MB 1.6 MB/s \n",
      "\u001b[?25hCollecting gast==0.4.0\n",
      "  Downloading gast-0.4.0-py3-none-any.whl (9.8 kB)\n",
      "Collecting wrapt~=1.12.1\n",
      "  Downloading wrapt-1.12.1.tar.gz (27 kB)\n",
      "Requirement already satisfied: numpy~=1.19.2 in /Users/seneralkan/opt/anaconda3/lib/python3.8/site-packages (from tensorflow) (1.19.2)\n",
      "Collecting google-pasta~=0.2\n",
      "  Downloading google_pasta-0.2.0-py3-none-any.whl (57 kB)\n",
      "\u001b[K     |████████████████████████████████| 57 kB 1.6 MB/s \n",
      "\u001b[?25hCollecting flatbuffers~=1.12.0\n",
      "  Downloading flatbuffers-1.12-py2.py3-none-any.whl (15 kB)\n",
      "Collecting keras-preprocessing~=1.1.2\n",
      "  Downloading Keras_Preprocessing-1.1.2-py2.py3-none-any.whl (42 kB)\n",
      "\u001b[K     |████████████████████████████████| 42 kB 1.5 MB/s \n",
      "\u001b[?25hCollecting absl-py~=0.10\n",
      "  Downloading absl_py-0.13.0-py3-none-any.whl (132 kB)\n",
      "\u001b[K     |████████████████████████████████| 132 kB 1.5 MB/s \n",
      "\u001b[?25hRequirement already satisfied: wheel~=0.35 in /Users/seneralkan/opt/anaconda3/lib/python3.8/site-packages (from tensorflow) (0.35.1)\n",
      "Collecting grpcio~=1.34.0\n",
      "  Downloading grpcio-1.34.1-cp38-cp38-macosx_10_10_x86_64.whl (3.7 MB)\n",
      "\u001b[K     |████████████████████████████████| 3.7 MB 24 kB/s \n",
      "\u001b[?25hRequirement already satisfied: protobuf>=3.9.2 in /Users/seneralkan/opt/anaconda3/lib/python3.8/site-packages (from tensorflow) (3.17.3)\n",
      "Requirement already satisfied: six~=1.15.0 in /Users/seneralkan/opt/anaconda3/lib/python3.8/site-packages (from tensorflow) (1.15.0)\n",
      "Requirement already satisfied: typing-extensions~=3.7.4 in /Users/seneralkan/opt/anaconda3/lib/python3.8/site-packages (from tensorflow) (3.7.4.3)\n",
      "Collecting tensorflow-estimator<2.6.0,>=2.5.0rc0\n",
      "  Downloading tensorflow_estimator-2.5.0-py2.py3-none-any.whl (462 kB)\n",
      "\u001b[K     |████████████████████████████████| 462 kB 1.5 MB/s \n",
      "\u001b[?25hRequirement already satisfied: requests<3,>=2.21.0 in /Users/seneralkan/opt/anaconda3/lib/python3.8/site-packages (from tensorboard~=2.5->tensorflow) (2.24.0)\n",
      "Collecting tensorboard-plugin-wit>=1.6.0\n",
      "  Downloading tensorboard_plugin_wit-1.8.0-py3-none-any.whl (781 kB)\n",
      "\u001b[K     |████████████████████████████████| 781 kB 1.5 MB/s \n",
      "\u001b[?25hCollecting google-auth<2,>=1.6.3\n",
      "  Downloading google_auth-1.34.0-py2.py3-none-any.whl (152 kB)\n",
      "\u001b[K     |████████████████████████████████| 152 kB 1.5 MB/s \n",
      "\u001b[?25hRequirement already satisfied: setuptools>=41.0.0 in /Users/seneralkan/opt/anaconda3/lib/python3.8/site-packages (from tensorboard~=2.5->tensorflow) (50.3.1.post20201107)\n",
      "Collecting google-auth-oauthlib<0.5,>=0.4.1\n",
      "  Downloading google_auth_oauthlib-0.4.5-py2.py3-none-any.whl (18 kB)\n",
      "Collecting markdown>=2.6.8\n",
      "  Downloading Markdown-3.3.4-py3-none-any.whl (97 kB)\n",
      "\u001b[K     |████████████████████████████████| 97 kB 1.3 MB/s \n",
      "\u001b[?25hCollecting tensorboard-data-server<0.7.0,>=0.6.0\n",
      "  Downloading tensorboard_data_server-0.6.1-py3-none-macosx_10_9_x86_64.whl (3.5 MB)\n",
      "\u001b[K     |████████████████████████████████| 3.5 MB 45 kB/s \n",
      "\u001b[?25hRequirement already satisfied: werkzeug>=0.11.15 in /Users/seneralkan/opt/anaconda3/lib/python3.8/site-packages (from tensorboard~=2.5->tensorflow) (1.0.1)\n",
      "Requirement already satisfied: chardet<4,>=3.0.2 in /Users/seneralkan/opt/anaconda3/lib/python3.8/site-packages (from requests<3,>=2.21.0->tensorboard~=2.5->tensorflow) (3.0.4)\n",
      "Requirement already satisfied: idna<3,>=2.5 in /Users/seneralkan/opt/anaconda3/lib/python3.8/site-packages (from requests<3,>=2.21.0->tensorboard~=2.5->tensorflow) (2.10)\n",
      "Requirement already satisfied: certifi>=2017.4.17 in /Users/seneralkan/opt/anaconda3/lib/python3.8/site-packages (from requests<3,>=2.21.0->tensorboard~=2.5->tensorflow) (2020.6.20)\n",
      "Requirement already satisfied: urllib3!=1.25.0,!=1.25.1,<1.26,>=1.21.1 in /Users/seneralkan/opt/anaconda3/lib/python3.8/site-packages (from requests<3,>=2.21.0->tensorboard~=2.5->tensorflow) (1.25.11)\n",
      "Collecting rsa<5,>=3.1.4; python_version >= \"3.6\"\n",
      "  Downloading rsa-4.7.2-py3-none-any.whl (34 kB)\n",
      "Collecting pyasn1-modules>=0.2.1\n",
      "  Downloading pyasn1_modules-0.2.8-py2.py3-none-any.whl (155 kB)\n",
      "\u001b[K     |████████████████████████████████| 155 kB 182 kB/s \n",
      "\u001b[?25hRequirement already satisfied: cachetools<5.0,>=2.0.0 in /Users/seneralkan/opt/anaconda3/lib/python3.8/site-packages (from google-auth<2,>=1.6.3->tensorboard~=2.5->tensorflow) (4.2.2)\n",
      "Collecting requests-oauthlib>=0.7.0\n",
      "  Downloading requests_oauthlib-1.3.0-py2.py3-none-any.whl (23 kB)\n",
      "Collecting pyasn1>=0.1.3\n",
      "  Downloading pyasn1-0.4.8-py2.py3-none-any.whl (77 kB)\n",
      "\u001b[K     |████████████████████████████████| 77 kB 216 kB/s \n",
      "\u001b[?25hCollecting oauthlib>=3.0.0\n",
      "  Downloading oauthlib-3.1.1-py2.py3-none-any.whl (146 kB)\n",
      "\u001b[K     |████████████████████████████████| 146 kB 1.5 MB/s \n",
      "\u001b[?25hBuilding wheels for collected packages: termcolor, wrapt\n",
      "  Building wheel for termcolor (setup.py) ... \u001b[?25ldone\n",
      "\u001b[?25h  Created wheel for termcolor: filename=termcolor-1.1.0-py3-none-any.whl size=4830 sha256=bc424081f1db52819fe8225891f81eebdd1cfdf2ba489e2be6e1cbc7e686b669\n",
      "  Stored in directory: /Users/seneralkan/Library/Caches/pip/wheels/a0/16/9c/5473df82468f958445479c59e784896fa24f4a5fc024b0f501\n",
      "  Building wheel for wrapt (setup.py) ... \u001b[?25ldone\n",
      "\u001b[?25h  Created wheel for wrapt: filename=wrapt-1.12.1-cp38-cp38-macosx_10_9_x86_64.whl size=32731 sha256=5aa7fa5daa22b0bdab26389511a7aabc6ab55c6e50a960461dd4bca101c07011\n",
      "  Stored in directory: /Users/seneralkan/Library/Caches/pip/wheels/5f/fd/9e/b6cf5890494cb8ef0b5eaff72e5d55a70fb56316007d6dfe73\n",
      "Successfully built termcolor wrapt\n",
      "Installing collected packages: opt-einsum, astunparse, h5py, grpcio, absl-py, tensorboard-plugin-wit, pyasn1, rsa, pyasn1-modules, google-auth, oauthlib, requests-oauthlib, google-auth-oauthlib, markdown, tensorboard-data-server, tensorboard, termcolor, keras-nightly, gast, wrapt, google-pasta, flatbuffers, keras-preprocessing, tensorflow-estimator, tensorflow\n",
      "  Attempting uninstall: h5py\n",
      "    Found existing installation: h5py 2.10.0\n",
      "    Uninstalling h5py-2.10.0:\n",
      "      Successfully uninstalled h5py-2.10.0\n",
      "  Attempting uninstall: wrapt\n",
      "    Found existing installation: wrapt 1.11.2\n",
      "    Uninstalling wrapt-1.11.2:\n",
      "      Successfully uninstalled wrapt-1.11.2\n",
      "Successfully installed absl-py-0.13.0 astunparse-1.6.3 flatbuffers-1.12 gast-0.4.0 google-auth-1.34.0 google-auth-oauthlib-0.4.5 google-pasta-0.2.0 grpcio-1.34.1 h5py-3.1.0 keras-nightly-2.5.0.dev2021032900 keras-preprocessing-1.1.2 markdown-3.3.4 oauthlib-3.1.1 opt-einsum-3.3.0 pyasn1-0.4.8 pyasn1-modules-0.2.8 requests-oauthlib-1.3.0 rsa-4.7.2 tensorboard-2.5.0 tensorboard-data-server-0.6.1 tensorboard-plugin-wit-1.8.0 tensorflow-2.5.0 tensorflow-estimator-2.5.0 termcolor-1.1.0 wrapt-1.12.1\n"
     ]
    }
   ],
   "metadata": {}
  },
  {
   "cell_type": "code",
   "execution_count": 260,
   "source": [
    "!pip install keras"
   ],
   "outputs": [
    {
     "output_type": "stream",
     "name": "stdout",
     "text": [
      "Requirement already satisfied: keras in /Users/seneralkan/opt/anaconda3/lib/python3.8/site-packages (2.4.3)\n",
      "Requirement already satisfied: h5py in /Users/seneralkan/opt/anaconda3/lib/python3.8/site-packages (from keras) (3.1.0)\n",
      "Requirement already satisfied: numpy>=1.9.1 in /Users/seneralkan/opt/anaconda3/lib/python3.8/site-packages (from keras) (1.19.2)\n",
      "Requirement already satisfied: pyyaml in /Users/seneralkan/opt/anaconda3/lib/python3.8/site-packages (from keras) (5.3.1)\n",
      "Requirement already satisfied: scipy>=0.14 in /Users/seneralkan/opt/anaconda3/lib/python3.8/site-packages (from keras) (1.5.2)\n"
     ]
    }
   ],
   "metadata": {}
  },
  {
   "cell_type": "code",
   "execution_count": 262,
   "source": [],
   "outputs": [],
   "metadata": {}
  },
  {
   "cell_type": "code",
   "execution_count": null,
   "source": [],
   "outputs": [],
   "metadata": {}
  }
 ],
 "metadata": {
  "orig_nbformat": 4,
  "language_info": {
   "name": "python",
   "version": "3.8.5",
   "mimetype": "text/x-python",
   "codemirror_mode": {
    "name": "ipython",
    "version": 3
   },
   "pygments_lexer": "ipython3",
   "nbconvert_exporter": "python",
   "file_extension": ".py"
  },
  "kernelspec": {
   "name": "python3",
   "display_name": "Python 3.8.5 64-bit ('base': conda)"
  },
  "interpreter": {
   "hash": "1a761c32d4b8a6f2a02e99be72b6073eda52173176e7c1f6d5695f36dba36687"
  }
 },
 "nbformat": 4,
 "nbformat_minor": 2
}